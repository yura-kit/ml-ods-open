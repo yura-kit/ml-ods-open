{
 "cells": [
  {
   "cell_type": "markdown",
   "metadata": {},
   "source": [
    "<center>\n",
    "<img src=\"../../img/ods_stickers.jpg\">\n",
    "## Open Machine Learning Course\n",
    "<center>\n",
    "Author: Yury Kashnitsky, Data Scientist at Mail.Ru Group\n",
    "\n",
    "This material is subject to the terms and conditions of the license [Creative Commons CC BY-NC-SA 4.0](https://creativecommons.org/licenses/by-nc-sa/4.0/). Free use is permitted for any non-comercial purpose with an obligatory indication of the names of the authors and of the source."
   ]
  },
  {
   "cell_type": "markdown",
   "metadata": {},
   "source": [
    "## <center>Assignment #6\n",
    "### <center> Beating benchmarks in \"How good is your Medium article?\"\n",
    "    \n",
    "[Competition](https://www.kaggle.com/c/how-good-is-your-medium-article). The task is to beat \"Assignment 6 baseline\"."
   ]
  },
  {
   "cell_type": "code",
   "execution_count": 1,
   "metadata": {},
   "outputs": [],
   "source": [
    "import os\n",
    "import json\n",
    "from tqdm import tqdm_notebook\n",
    "import numpy as np\n",
    "import pandas as pd\n",
    "from sklearn.feature_extraction.text import TfidfVectorizer\n",
    "from sklearn.metrics import mean_absolute_error\n",
    "from scipy.sparse import csr_matrix, hstack\n",
    "from sklearn.linear_model import Ridge\n",
    "#https://www.kaggle.com/artgor/eda-feature-engineering-and-xgb-lgb"
   ]
  },
  {
   "cell_type": "markdown",
   "metadata": {},
   "source": [
    "The following code will help to throw away all HTML tags from an article content."
   ]
  },
  {
   "cell_type": "code",
   "execution_count": 2,
   "metadata": {},
   "outputs": [],
   "source": [
    "from html.parser import HTMLParser\n",
    "\n",
    "class MLStripper(HTMLParser):\n",
    "    def __init__(self):\n",
    "        self.reset()\n",
    "        self.strict = False\n",
    "        self.convert_charrefs= True\n",
    "        self.fed = []\n",
    "    def handle_data(self, d):\n",
    "        self.fed.append(d)\n",
    "    def get_data(self):\n",
    "        return ''.join(self.fed)\n",
    "\n",
    "def strip_tags(html):\n",
    "    s = MLStripper()\n",
    "    s.feed(html)\n",
    "    return s.get_data()"
   ]
  },
  {
   "cell_type": "markdown",
   "metadata": {},
   "source": [
    "Supplementary function to read a JSON line without crashing on escape characters."
   ]
  },
  {
   "cell_type": "code",
   "execution_count": 3,
   "metadata": {},
   "outputs": [],
   "source": [
    "def read_json_line(line=None):\n",
    "    result = None\n",
    "    try:        \n",
    "        result = json.loads(line)\n",
    "    except Exception as e:      \n",
    "        # Find the offending character index:\n",
    "        idx_to_replace = int(str(e).split(' ')[-1].replace(')',''))      \n",
    "        # Remove the offending character:\n",
    "        new_line = list(line)\n",
    "        new_line[idx_to_replace] = ' '\n",
    "        new_line = ''.join(new_line)     \n",
    "        return read_json_line(line=new_line)\n",
    "    return result"
   ]
  },
  {
   "cell_type": "markdown",
   "metadata": {},
   "source": [
    "<font color='red'>Extract features `content`, `published`, `title` and `author`, write them to separate files for train and test sets.</font>"
   ]
  },
  {
   "cell_type": "code",
   "execution_count": 4,
   "metadata": {},
   "outputs": [],
   "source": [
    "def extract_features_and_write(path_to_data,\n",
    "                               inp_filename, is_train=True):\n",
    "    \n",
    "    features = ['content', 'published', 'title', 'author']\n",
    "    prefix = 'train' if is_train else 'test'\n",
    "    feature_files = [open(os.path.join(path_to_data,\n",
    "                                       '{}_{}.txt'.format(prefix, feat)),\n",
    "                          'w', encoding='utf-8')\n",
    "                     for feat in features]\n",
    "    \n",
    "    \n",
    "    with open(os.path.join(path_to_data, inp_filename), \n",
    "              encoding='utf-8') as inp_json_file:\n",
    "\n",
    "        i = 0\n",
    "        for line in tqdm_notebook(inp_json_file):\n",
    "            json_data = read_json_line(line)\n",
    "\n",
    "            i +=1\n",
    "            # You code here\n",
    "            \n",
    "            for idx, feature in enumerate(features):\n",
    "                data = json_data[feature]\n",
    "                if feature == 'title':\n",
    "                    content = data.replace('\\n', ' ').replace('\\r', ' ')\n",
    "                    content_no_html_tags = strip_tags(content)\n",
    "                    feature_files[idx].write(content_no_html_tags+'\\n')\n",
    "                if feature == 'published':\n",
    "                    val = data['$date']\n",
    "                    feature_files[idx].write((val + '\\n') if val is not None else  '\\n')\n",
    "                if feature == 'author':\n",
    "                    val = data['twitter']\n",
    "                    feature_files[idx].write((val + '\\n') if val is not None else  '\\n')\n",
    "                if feature == 'content':\n",
    "                    content = data.replace('\\n', ' ').replace('\\r', ' ')\n",
    "                    content_no_html_tags = strip_tags(content)\n",
    "                    feature_files[idx].write(content_no_html_tags+'\\n')\n",
    "            #if i > 2:\n",
    "            #    break"
   ]
  },
  {
   "cell_type": "code",
   "execution_count": null,
   "metadata": {},
   "outputs": [],
   "source": []
  },
  {
   "cell_type": "code",
   "execution_count": 5,
   "metadata": {},
   "outputs": [],
   "source": [
    "PATH_TO_DATA = '../../data' # modify this if you need to"
   ]
  },
  {
   "cell_type": "code",
   "execution_count": 6,
   "metadata": {},
   "outputs": [
    {
     "data": {
      "application/vnd.jupyter.widget-view+json": {
       "model_id": "c9ddb1113e9f4bbb8f6781d029b5417d",
       "version_major": 2,
       "version_minor": 0
      },
      "text/html": [
       "<p>Failed to display Jupyter Widget of type <code>HBox</code>.</p>\n",
       "<p>\n",
       "  If you're reading this message in the Jupyter Notebook or JupyterLab Notebook, it may mean\n",
       "  that the widgets JavaScript is still loading. If this message persists, it\n",
       "  likely means that the widgets JavaScript library is either not installed or\n",
       "  not enabled. See the <a href=\"https://ipywidgets.readthedocs.io/en/stable/user_install.html\">Jupyter\n",
       "  Widgets Documentation</a> for setup instructions.\n",
       "</p>\n",
       "<p>\n",
       "  If you're reading this message in another frontend (for example, a static\n",
       "  rendering on GitHub or <a href=\"https://nbviewer.jupyter.org/\">NBViewer</a>),\n",
       "  it may mean that your frontend doesn't currently support widgets.\n",
       "</p>\n"
      ],
      "text/plain": [
       "HBox(children=(IntProgress(value=1, bar_style='info', max=1), HTML(value='')))"
      ]
     },
     "metadata": {},
     "output_type": "display_data"
    },
    {
     "name": "stdout",
     "output_type": "stream",
     "text": [
      "\n"
     ]
    }
   ],
   "source": [
    "extract_features_and_write(PATH_TO_DATA, 'train.json', is_train=True)"
   ]
  },
  {
   "cell_type": "code",
   "execution_count": 7,
   "metadata": {},
   "outputs": [
    {
     "data": {
      "application/vnd.jupyter.widget-view+json": {
       "model_id": "256fb1915a29474aa8333466aea1edbd",
       "version_major": 2,
       "version_minor": 0
      },
      "text/html": [
       "<p>Failed to display Jupyter Widget of type <code>HBox</code>.</p>\n",
       "<p>\n",
       "  If you're reading this message in the Jupyter Notebook or JupyterLab Notebook, it may mean\n",
       "  that the widgets JavaScript is still loading. If this message persists, it\n",
       "  likely means that the widgets JavaScript library is either not installed or\n",
       "  not enabled. See the <a href=\"https://ipywidgets.readthedocs.io/en/stable/user_install.html\">Jupyter\n",
       "  Widgets Documentation</a> for setup instructions.\n",
       "</p>\n",
       "<p>\n",
       "  If you're reading this message in another frontend (for example, a static\n",
       "  rendering on GitHub or <a href=\"https://nbviewer.jupyter.org/\">NBViewer</a>),\n",
       "  it may mean that your frontend doesn't currently support widgets.\n",
       "</p>\n"
      ],
      "text/plain": [
       "HBox(children=(IntProgress(value=1, bar_style='info', max=1), HTML(value='')))"
      ]
     },
     "metadata": {},
     "output_type": "display_data"
    },
    {
     "name": "stdout",
     "output_type": "stream",
     "text": [
      "\n"
     ]
    }
   ],
   "source": [
    "extract_features_and_write(PATH_TO_DATA, 'test.json', is_train=False)"
   ]
  },
  {
   "cell_type": "markdown",
   "metadata": {},
   "source": [
    "**Add the following groups of features:**\n",
    "    - Tf-Idf with article content (ngram_range=(1, 2), max_features=100000 but you can try adding more)\n",
    "    - Tf-Idf with article titles (ngram_range=(1, 2), max_features=100000 but you can try adding more)\n",
    "    - Time features: publication hour, whether it's morning, day, night, whether it's a weekend\n",
    "    - Bag of authors (i.e. One-Hot-Encoded author names)"
   ]
  },
  {
   "cell_type": "code",
   "execution_count": 8,
   "metadata": {},
   "outputs": [
    {
     "name": "stdout",
     "output_type": "stream",
     "text": [
      "CPU times: user 2.19 s, sys: 848 ms, total: 3.04 s\n",
      "Wall time: 3.04 s\n"
     ]
    }
   ],
   "source": [
    "%%time\n",
    "def file_to_list(file_name):\n",
    "    content = []\n",
    "    with open(file_name, encoding='utf-8') as f:\n",
    "        content = f.readlines()\n",
    "        # you may also want to remove whitespace characters like `\\n` at the end of each line\n",
    "        content = [x.strip() for x in content] \n",
    "    return content\n",
    "\n",
    "\n",
    "\n",
    "X_train_content = file_to_list(PATH_TO_DATA+'/train_content.txt')\n",
    "X_train_title = file_to_list(PATH_TO_DATA+'/train_title.txt')\n",
    "X_train_author = file_to_list(PATH_TO_DATA+'/train_author.txt')\n",
    "X_train_time = file_to_list(PATH_TO_DATA+'/train_published.txt')\n",
    "\n",
    "X_test_content = file_to_list(PATH_TO_DATA+'/test_content.txt')\n",
    "X_test_title = file_to_list(PATH_TO_DATA+'/test_title.txt')\n",
    "X_test_author = file_to_list(PATH_TO_DATA+'/test_author.txt')\n",
    "X_test_time = file_to_list(PATH_TO_DATA+'/test_published.txt')"
   ]
  },
  {
   "cell_type": "code",
   "execution_count": 9,
   "metadata": {},
   "outputs": [
    {
     "name": "stdout",
     "output_type": "stream",
     "text": [
      "96958\n",
      "96958\n",
      "96958\n",
      "(96958, 1)\n",
      "CPU times: user 72 ms, sys: 8 ms, total: 80 ms\n",
      "Wall time: 79.8 ms\n"
     ]
    },
    {
     "name": "stderr",
     "output_type": "stream",
     "text": [
      "/usr/local/lib/python3.5/dist-packages/sklearn/utils/validation.py:444: DataConversionWarning: Data with input dtype int64 was converted to float64 by StandardScaler.\n",
      "  warnings.warn(msg, DataConversionWarning)\n"
     ]
    }
   ],
   "source": [
    "%%time\n",
    "\n",
    "from sklearn.preprocessing import OneHotEncoder\n",
    "from sklearn.preprocessing import LabelEncoder\n",
    "from sklearn.preprocessing import StandardScaler\n",
    "\n",
    "\n",
    "def ohe(values):\n",
    "    label_encoder = LabelEncoder()\n",
    "    integer_encoded = label_encoder.fit_transform(values)\n",
    "    \n",
    "    onehot_encoder = OneHotEncoder(sparse=True)\n",
    "    integer_encoded = integer_encoded.reshape(len(integer_encoded), 1)\n",
    "    return onehot_encoder.fit_transform(integer_encoded)\n",
    "\n",
    "# You code here\n",
    "vectorizer = TfidfVectorizer(ngram_range=(1,2), max_features=100000, max_df=0.5)\n",
    "#train\n",
    "\n",
    "idx_split = len(X_train_content)\n",
    "\n",
    "X_full_tarin_content = X_train_content\n",
    "X_full_tarin_content.extend(X_test_content)\n",
    "\n",
    "X_full_tarin_content_length = [len(text) for text in X_full_tarin_content]\n",
    "scaler = StandardScaler()\n",
    "X_full_tarin_content_length_scalled = scaler.fit_transform(np.asarray(X_full_tarin_content_length).reshape((len(X_full_tarin_content_length),1)))\n",
    "\n",
    "\n",
    "\n",
    "\n",
    "X_full_tarin_title = np.hstack([X_train_title, X_test_title])\n",
    "X_full_tarin_author = np.hstack([X_train_author, X_test_author])\n",
    "print(len(X_full_tarin_content))\n",
    "print(len(X_full_tarin_title))\n",
    "print(len(X_full_tarin_author))\n",
    "print(X_full_tarin_content_length_scalled.shape)"
   ]
  },
  {
   "cell_type": "code",
   "execution_count": null,
   "metadata": {},
   "outputs": [],
   "source": []
  },
  {
   "cell_type": "code",
   "execution_count": 10,
   "metadata": {},
   "outputs": [
    {
     "name": "stderr",
     "output_type": "stream",
     "text": [
      "/usr/local/lib/python3.5/dist-packages/sklearn/feature_extraction/text.py:1089: FutureWarning: Conversion of the second argument of issubdtype from `float` to `np.floating` is deprecated. In future, it will be treated as `np.float64 == np.dtype(float).type`.\n",
      "  if hasattr(X, 'dtype') and np.issubdtype(X.dtype, np.float):\n"
     ]
    },
    {
     "name": "stdout",
     "output_type": "stream",
     "text": [
      "CPU times: user 8min 28s, sys: 11.1 s, total: 8min 39s\n",
      "Wall time: 8min 52s\n"
     ]
    }
   ],
   "source": [
    "%%time\n",
    "X_full_tarin_content_sparse = vectorizer.fit_transform(X_full_tarin_content)\n",
    "X_full_tarin_title_sparse = vectorizer.fit_transform(X_full_tarin_title)\n"
   ]
  },
  {
   "cell_type": "code",
   "execution_count": 11,
   "metadata": {},
   "outputs": [
    {
     "name": "stdout",
     "output_type": "stream",
     "text": [
      "CPU times: user 40 ms, sys: 8 ms, total: 48 ms\n",
      "Wall time: 143 ms\n"
     ]
    }
   ],
   "source": [
    "%%time\n",
    "X_full_tarin_author_sparse = ohe(X_full_tarin_author)"
   ]
  },
  {
   "cell_type": "code",
   "execution_count": null,
   "metadata": {},
   "outputs": [],
   "source": []
  },
  {
   "cell_type": "code",
   "execution_count": 12,
   "metadata": {},
   "outputs": [
    {
     "name": "stdout",
     "output_type": "stream",
     "text": [
      "(62313, 100000)\n",
      "(62313, 100000)\n",
      "(62313, 31199)\n",
      "(34645, 100000)\n",
      "(34645, 100000)\n",
      "(34645, 31199)\n",
      "(62313, 1)\n",
      "(34645, 1)\n"
     ]
    }
   ],
   "source": [
    "X_train_content_sparse = X_full_tarin_content_sparse[:idx_split, :]\n",
    "X_train_title_sparse = X_full_tarin_title_sparse[:idx_split, :]\n",
    "X_train_author_sparse = X_full_tarin_author_sparse[:idx_split, :]\n",
    "X_train_content_length_scalled = X_full_tarin_content_length_scalled[:idx_split, :]\n",
    "\n",
    "X_test_content_sparse = X_full_tarin_content_sparse[idx_split:,:]\n",
    "X_test_title_sparse = X_full_tarin_title_sparse[idx_split:,:]\n",
    "X_test_author_sparse = X_full_tarin_author_sparse[idx_split:,:]\n",
    "X_test_content_length_scalled = X_full_tarin_content_length_scalled[idx_split:,:]\n",
    "\n",
    "\n",
    "print(X_train_content_sparse.shape)\n",
    "print(X_train_title_sparse.shape)\n",
    "print(X_train_author_sparse.shape)\n",
    "\n",
    "print(X_test_content_sparse.shape)\n",
    "print(X_test_title_sparse.shape)\n",
    "print(X_test_author_sparse.shape)\n",
    "\n",
    "print(X_train_content_length_scalled.shape)\n",
    "print(X_test_content_length_scalled.shape)\n",
    "\n",
    "# #-----------------------\n",
    "# X_train_content_sparse = vectorizer.fit_transform(X_train_content)\n",
    "# X_train_title_sparse = vectorizer.fit_transform(X_train_title)\n",
    "# X_train_author_sparse = ohe(X_train_author)\n",
    "\n",
    "# #test\n",
    "# X_test_content_sparse = vectorizer.fit_transform(X_test_content)\n",
    "# X_test_title_sparse = vectorizer.fit_transform(X_test_title)\n",
    "# X_test_author_sparse = ohe(X_test_author)"
   ]
  },
  {
   "cell_type": "code",
   "execution_count": 13,
   "metadata": {},
   "outputs": [],
   "source": [
    "#TIME TIME"
   ]
  },
  {
   "cell_type": "code",
   "execution_count": 14,
   "metadata": {},
   "outputs": [
    {
     "name": "stdout",
     "output_type": "stream",
     "text": [
      "CPU times: user 856 ms, sys: 0 ns, total: 856 ms\n",
      "Wall time: 898 ms\n"
     ]
    }
   ],
   "source": [
    "%%time\n",
    "from datetime import datetime\n",
    "import dateutil.parser\n",
    "\n",
    "def str_to_date(val):\n",
    "    return datetime.strptime(val[:19], \"%Y-%m-%dT%H:%M:%S\")\n",
    "\n",
    "X_train_time_vals = [str_to_date(date) for date in X_train_time]\n",
    "X_test_time_vals = [str_to_date(date) for date in X_test_time]\n",
    "\n",
    "\n"
   ]
  },
  {
   "cell_type": "code",
   "execution_count": 15,
   "metadata": {},
   "outputs": [],
   "source": [
    "#print(X_train_time_vals[0].weekday())\n",
    "#print(X_test_time_vals[0].day)\n",
    "\n",
    "X_train_time_morning = [int(t.hour < 11) for t in X_train_time_vals]\n",
    "X_train_time_weekend = [int(t.weekday() >= 6) for t in X_train_time_vals]\n",
    "X_train_time_hour = [t.hour for t in X_train_time_vals]\n",
    "X_train_time_day = [t.day for t in X_train_time_vals]\n",
    "X_train_time_day_night = [int((t.hour >= 11) & (t.hour <= 19)) for t in X_train_time_vals]\n",
    "\n",
    "\n",
    "\n",
    "X_test_time_morning = [int(t.hour < 11) for t in X_test_time_vals]\n",
    "X_test_time_weekend = [int(t.weekday() >= 6) for t in X_test_time_vals]\n",
    "X_test_time_hour = [t.hour for t in X_test_time_vals]\n",
    "X_test_time_day = [t.day for t in X_test_time_vals]\n",
    "X_test_time_day_night = [int((t.hour >= 11) & (t.hour <= 19)) for t in X_test_time_vals]\n",
    "\n",
    "\n",
    "\n",
    "\n",
    "X_train_time_morning = np.asarray(X_train_time_morning).reshape((62313,1))\n",
    "X_train_time_weekend = np.asarray(X_train_time_weekend).reshape((62313,1))\n",
    "X_train_time_hour = np.asarray(X_train_time_hour).reshape((62313,1))\n",
    "X_train_time_day = np.asarray(X_train_time_day).reshape((62313,1))\n",
    "X_train_time_day_night = np.asarray(X_train_time_day_night).reshape((62313,1))\n",
    "\n",
    "\n",
    "X_test_time_morning = np.asarray(X_test_time_morning).reshape((34645,1))\n",
    "X_test_time_weekend = np.asarray(X_test_time_weekend).reshape((34645,1))\n",
    "X_test_time_hour = np.asarray(X_test_time_hour).reshape((34645,1))\n",
    "X_test_time_day = np.asarray(X_test_time_day).reshape((34645,1))\n",
    "X_test_time_day_night = np.asarray(X_test_time_day_night).reshape((34645,1))"
   ]
  },
  {
   "cell_type": "code",
   "execution_count": 16,
   "metadata": {},
   "outputs": [
    {
     "name": "stdout",
     "output_type": "stream",
     "text": [
      "(62313, 1)\n",
      "(62313, 1)\n",
      "(62313, 24)\n"
     ]
    },
    {
     "name": "stderr",
     "output_type": "stream",
     "text": [
      "/usr/local/lib/python3.5/dist-packages/sklearn/preprocessing/label.py:111: DataConversionWarning: A column-vector y was passed when a 1d array was expected. Please change the shape of y to (n_samples, ), for example using ravel().\n",
      "  y = column_or_1d(y, warn=True)\n"
     ]
    }
   ],
   "source": [
    "X_train_time_hour_OHE = ohe(X_train_time_hour)\n",
    "X_test_time_hour_OHE = ohe(X_test_time_hour)\n",
    "\n",
    "X_train_time_day_OHE = ohe(X_train_time_day)\n",
    "X_test_time_day_OHE = ohe(X_test_time_day)\n",
    "\n",
    "\n",
    "print(X_train_time_morning.shape)\n",
    "print(X_train_time_weekend.shape)\n",
    "print(X_train_time_hour_OHE.shape)\n"
   ]
  },
  {
   "cell_type": "code",
   "execution_count": 17,
   "metadata": {},
   "outputs": [],
   "source": [
    "#JOIN ALL TIME FEATURES\n",
    "X_train_time_features_sparse = hstack([X_train_time_morning, \n",
    "                                       X_train_time_weekend, \n",
    "                                       X_train_time_day_night, \n",
    "                                       X_train_time_day_OHE, \n",
    "                                       X_train_content_length_scalled])\n",
    "\n",
    "X_test_time_features_sparse = hstack([X_test_time_morning, \n",
    "                                      X_test_time_weekend, \n",
    "                                      X_test_time_day_night, \n",
    "                                      X_test_time_day_OHE, \n",
    "                                      X_test_content_length_scalled])"
   ]
  },
  {
   "cell_type": "code",
   "execution_count": 18,
   "metadata": {},
   "outputs": [
    {
     "name": "stdout",
     "output_type": "stream",
     "text": [
      "(62313, 35)\n",
      "(34645, 35)\n"
     ]
    }
   ],
   "source": [
    "print(X_train_time_features_sparse.shape)\n",
    "print(X_test_time_features_sparse.shape)"
   ]
  },
  {
   "cell_type": "markdown",
   "metadata": {},
   "source": [
    "**Join all sparse matrices.**"
   ]
  },
  {
   "cell_type": "code",
   "execution_count": 19,
   "metadata": {},
   "outputs": [],
   "source": [
    "X_train_sparse = csr_matrix(hstack([X_train_content_sparse, X_train_title_sparse,\n",
    "                                    X_train_author_sparse, X_train_time_features_sparse]))"
   ]
  },
  {
   "cell_type": "code",
   "execution_count": 20,
   "metadata": {},
   "outputs": [],
   "source": [
    "X_test_sparse = csr_matrix(hstack([X_test_content_sparse, X_test_title_sparse,\n",
    "                                    X_test_author_sparse, X_test_time_features_sparse]))"
   ]
  },
  {
   "cell_type": "markdown",
   "metadata": {},
   "source": [
    "**Read train target and split data for validation.**"
   ]
  },
  {
   "cell_type": "code",
   "execution_count": 21,
   "metadata": {},
   "outputs": [],
   "source": [
    "train_target = pd.read_csv('../../data/train_log1p_recommends.csv', \n",
    "                           index_col='id')\n",
    "y_train = train_target['log_recommends'].values"
   ]
  },
  {
   "cell_type": "code",
   "execution_count": 22,
   "metadata": {},
   "outputs": [],
   "source": [
    "train_part_size = int(0.7 * train_target.shape[0])\n",
    "X_train_part_sparse = X_train_sparse[:train_part_size, :]\n",
    "y_train_part = y_train[:train_part_size]\n",
    "\n",
    "X_valid_sparse =  X_train_sparse[train_part_size:, :]\n",
    "y_valid = y_train[train_part_size:]"
   ]
  },
  {
   "cell_type": "markdown",
   "metadata": {},
   "source": [
    "**Train a simple Ridge model and check MAE on the validation set.**"
   ]
  },
  {
   "cell_type": "code",
   "execution_count": 23,
   "metadata": {},
   "outputs": [
    {
     "name": "stdout",
     "output_type": "stream",
     "text": [
      "CPU times: user 3min 23s, sys: 1.22 s, total: 3min 24s\n",
      "Wall time: 3min 25s\n"
     ]
    }
   ],
   "source": [
    "%%time\n",
    "# You code here\n",
    "\n",
    "\n",
    "\n",
    "ridge = Ridge(random_state=17, alpha=0.16)\n",
    "ridge.fit(X_train_part_sparse, y_train_part);"
   ]
  },
  {
   "cell_type": "code",
   "execution_count": 24,
   "metadata": {},
   "outputs": [
    {
     "name": "stdout",
     "output_type": "stream",
     "text": [
      "1.0802097619556512 1.9452972975945164\n",
      "CPU times: user 64 ms, sys: 0 ns, total: 64 ms\n",
      "Wall time: 484 ms\n"
     ]
    }
   ],
   "source": [
    "%%time\n",
    "ridge_pred = ridge.predict(X_valid_sparse)\n",
    "valid_mae = mean_absolute_error(y_valid, ridge_pred)\n",
    "print(valid_mae, np.expm1(valid_mae))\n",
    "\n",
    "# valid_mae2 = mean_absolute_error(ridge_pred,np.zeros_like(y_valid))\n",
    "# print(valid_mae2, np.expm1(valid_mae2))\n"
   ]
  },
  {
   "cell_type": "markdown",
   "metadata": {},
   "source": [
    "**Train the same Ridge with all available data, make predictions for the test set and form a submission file.**"
   ]
  },
  {
   "cell_type": "code",
   "execution_count": 25,
   "metadata": {},
   "outputs": [
    {
     "name": "stdout",
     "output_type": "stream",
     "text": [
      "CPU times: user 4min 33s, sys: 1.62 s, total: 4min 34s\n",
      "Wall time: 4min 35s\n"
     ]
    },
    {
     "data": {
      "text/plain": [
       "Ridge(alpha=0.16, copy_X=True, fit_intercept=True, max_iter=None,\n",
       "   normalize=False, random_state=17, solver='auto', tol=0.001)"
      ]
     },
     "execution_count": 25,
     "metadata": {},
     "output_type": "execute_result"
    }
   ],
   "source": [
    "%%time\n",
    "# You code here\n",
    "\n",
    "\n",
    "ridge.fit(X_train_sparse, y_train);\n",
    "\n"
   ]
  },
  {
   "cell_type": "code",
   "execution_count": 26,
   "metadata": {},
   "outputs": [
    {
     "name": "stdout",
     "output_type": "stream",
     "text": [
      "(62313, 231234)\n",
      "(34645, 231234)\n"
     ]
    }
   ],
   "source": [
    "print(X_train_sparse.shape)\n",
    "print(X_test_sparse.shape)"
   ]
  },
  {
   "cell_type": "code",
   "execution_count": 27,
   "metadata": {},
   "outputs": [],
   "source": [
    "ridge_test_pred = ridge.predict(X_test_sparse)"
   ]
  },
  {
   "cell_type": "code",
   "execution_count": 28,
   "metadata": {},
   "outputs": [],
   "source": [
    "def write_submission_file(prediction, filename, path_to_sample='../../data/sample_submission (1).csv'):\n",
    "    submission = pd.read_csv(path_to_sample, index_col='id')\n",
    "    \n",
    "    submission['log_recommends'] = prediction\n",
    "    submission.to_csv(filename)"
   ]
  },
  {
   "cell_type": "code",
   "execution_count": 29,
   "metadata": {},
   "outputs": [],
   "source": [
    "#write_submission_file(ridge_test_pred, 'assignment6_medium_submission.csv')"
   ]
  },
  {
   "cell_type": "markdown",
   "metadata": {},
   "source": [
    "**Now's the time for dirty Kaggle hacks. Form a submission file with all zeroes. Make a submission. What do you get if you think about it? How is it going to help you with modifying your predictions?**"
   ]
  },
  {
   "cell_type": "code",
   "execution_count": 30,
   "metadata": {},
   "outputs": [],
   "source": [
    "# write_submission_file(np.zeros_like(ridge_test_pred), \n",
    "#                       'medium_all_zeros_submission.csv')"
   ]
  },
  {
   "cell_type": "code",
   "execution_count": null,
   "metadata": {},
   "outputs": [],
   "source": []
  },
  {
   "cell_type": "code",
   "execution_count": null,
   "metadata": {},
   "outputs": [],
   "source": []
  },
  {
   "cell_type": "markdown",
   "metadata": {},
   "source": [
    "**Modify predictions in an appropriate way (based on your all-zero submission) and make a new submission.**"
   ]
  },
  {
   "cell_type": "code",
   "execution_count": 86,
   "metadata": {},
   "outputs": [],
   "source": [
    "ridge_test_pred_modif = [((v+1.227354) if v > 0 else 0) for v in ridge_test_pred]\n",
    "#ridge_test_pred_modif = [v*1.395164 for v in ridge_test_pred]"
   ]
  },
  {
   "cell_type": "code",
   "execution_count": 87,
   "metadata": {},
   "outputs": [],
   "source": [
    "write_submission_file(ridge_test_pred_modif, \n",
    "                      'assignment6_medium_submission_with_hack.csv')"
   ]
  },
  {
   "cell_type": "code",
   "execution_count": 67,
   "metadata": {},
   "outputs": [
    {
     "name": "stdout",
     "output_type": "stream",
     "text": [
      "-0.3113313566415372\n"
     ]
    }
   ],
   "source": [
    "print(np.min(ridge_test_pred))"
   ]
  },
  {
   "cell_type": "code",
   "execution_count": 34,
   "metadata": {},
   "outputs": [
    {
     "data": {
      "image/png": "[encoded data removed]",
      "text/plain": [
       "<matplotlib.figure.Figure at 0x7f314a5ca208>"
      ]
     },
     "metadata": {},
     "output_type": "display_data"
    }
   ],
   "source": [
    "from matplotlib import pyplot as plt\n",
    "%matplotlib inline\n",
    "\n",
    "plt.hist(y_valid, bins=30, alpha=.5, color='red', label='true', range=(0,10));\n",
    "plt.hist(ridge_test_pred, bins=30, alpha=.5, color='green', label='pred', range=(0,10));\n",
    "plt.hist(ridge_test_pred*1.3973, bins=30, alpha=.5, color='blue', label='pred', range=(0,10));\n",
    "\n",
    "plt.legend();"
   ]
  },
  {
   "cell_type": "code",
   "execution_count": 35,
   "metadata": {},
   "outputs": [
    {
     "name": "stdout",
     "output_type": "stream",
     "text": [
      "2.93251068920344\n"
     ]
    }
   ],
   "source": [
    "print(np.percentile(ridge_test_pred, 50))"
   ]
  },
  {
   "cell_type": "code",
   "execution_count": 88,
   "metadata": {},
   "outputs": [
    {
     "name": "stdout",
     "output_type": "stream",
     "text": [
      "3.105930493711545\n"
     ]
    }
   ],
   "source": [
    "print(np.mean(ridge_test_pred))"
   ]
  },
  {
   "cell_type": "code",
   "execution_count": 84,
   "metadata": {},
   "outputs": [
    {
     "name": "stdout",
     "output_type": "stream",
     "text": [
      "4.333284493711545\n"
     ]
    }
   ],
   "source": [
    "print(np.mean(ridge_test_pred+1.227354))"
   ]
  },
  {
   "cell_type": "code",
   "execution_count": 68,
   "metadata": {},
   "outputs": [
    {
     "name": "stdout",
     "output_type": "stream",
     "text": [
      "1.2024295769096367\n"
     ]
    }
   ],
   "source": [
    "print(np.std(ridge_test_pred+1.395164))"
   ]
  },
  {
   "cell_type": "code",
   "execution_count": 39,
   "metadata": {},
   "outputs": [
    {
     "data": {
      "text/plain": [
       "0.9515652073252"
      ]
     },
     "execution_count": 39,
     "metadata": {},
     "output_type": "execute_result"
    }
   ],
   "source": [
    "np.log(2.58976)"
   ]
  },
  {
   "cell_type": "code",
   "execution_count": 85,
   "metadata": {},
   "outputs": [
    {
     "data": {
      "text/plain": [
       "150126.64128463648"
      ]
     },
     "execution_count": 85,
     "metadata": {},
     "output_type": "execute_result"
    }
   ],
   "source": [
    "np.sum(np.abs(ridge_test_pred+1.227354))"
   ]
  },
  {
   "cell_type": "code",
   "execution_count": null,
   "metadata": {},
   "outputs": [],
   "source": []
  },
  {
   "cell_type": "code",
   "execution_count": null,
   "metadata": {},
   "outputs": [],
   "source": []
  }
 ],
 "metadata": {
  "kernelspec": {
   "display_name": "Python 3",
   "language": "python",
   "name": "python3"
  },
  "language_info": {
   "codemirror_mode": {
    "name": "ipython",
    "version": 3
   },
   "file_extension": ".py",
   "mimetype": "text/x-python",
   "name": "python",
   "nbconvert_exporter": "python",
   "pygments_lexer": "ipython3",
   "version": "3.5.2"
  }
 },
 "nbformat": 4,
 "nbformat_minor": 2
}
