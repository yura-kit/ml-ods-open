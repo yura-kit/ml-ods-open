{
 "cells": [
  {
   "cell_type": "markdown",
   "metadata": {},
   "source": [
    "<center>\n",
    "<img src=\"../../img/ods_stickers.jpg\">\n",
    "## Открытый курс по машинному обучению. Сессия № 3\n",
    "</center>\n",
    "Авторы материала: аспирант Мехмата МГУ Евгений Колмаков, программист-исследователь Mail.ru Group Юрий Кашницкий. Материал распространяется на условиях лицензии [Creative Commons CC BY-NC-SA 4.0](https://creativecommons.org/licenses/by-nc-sa/4.0/). Можно использовать в любых целях (редактировать, поправлять и брать за основу), кроме коммерческих, но с обязательным упоминанием автора материала."
   ]
  },
  {
   "cell_type": "markdown",
   "metadata": {},
   "source": [
    "# <center>Домашнее задание № 3. Опциональная часть \n",
    "## <center> Реализация алгоритма построения дерева решений"
   ]
  },
  {
   "cell_type": "code",
   "execution_count": 4,
   "metadata": {},
   "outputs": [],
   "source": [
    "import numpy as np\n",
    "from matplotlib import pyplot as plt\n",
    "%matplotlib inline\n",
    "from sklearn.base import BaseEstimator\n",
    "from sklearn.datasets import make_classification, make_regression, load_digits, load_boston\n",
    "from sklearn.model_selection import train_test_split, GridSearchCV\n",
    "from sklearn.metrics import accuracy_score, mean_squared_error"
   ]
  },
  {
   "cell_type": "markdown",
   "metadata": {
    "collapsed": true
   },
   "source": [
    "**Необходимо реализовать класс `DecisionTree`**\n",
    "\n",
    "**Спецификация:**\n",
    "- класс наследуется от `sklearn.BaseEstimator`;\n",
    "- конструктор содержит следующие параметры: \n",
    "    `max_depth` - максимальная глубина дерева (по умолчанию - `numpy.inf`); \n",
    "    `min_samples_split` - минимальное число объектов в вершине, при котором происходит её разбиение (по умолчанию - 2); \n",
    "    `criterion` - критерий разбиения (для классификации - 'gini' или 'entropy', для регрессии - 'variance' или 'mad_median'; \n",
    "    по умолчанию - 'gini');\n",
    "    \n",
    "    Функционал, значение которого максимизируется для поиска оптимального разбиения в данной вершине имеет вид\n",
    "    $$Q(X, j, t) = F(X) - \\dfrac{|X_l|}{|X|} F(X_l) - \\dfrac{|X_r|}{|X|} F(X_r),$$\n",
    "    где $X$ - выборка, находящаяся в текущей вершине, $X_l$ и $X_r$ - разбиение выборки $X$ на две части \n",
    "    по предикату $[x_j < t]$, а $F(X)$ -критерий разбиения.\n",
    "    \n",
    "    Для классификации: пусть $p_i$ - доля объектов $i$-го класса в выборке $X$.\n",
    "    \n",
    "    'gini': Неопределенность Джини $F(X) = 1 -\\sum_{i = 1}^K p_i^2$.\n",
    "    \n",
    "    'entropy': Энтропия $F(X) = -\\sum_{i = 1}^K p_i \\log_2(p_i)$.\n",
    "    \n",
    "    Для регрессии: $y_j = y(x_j)$ - ответ на объекте $x_j$, $y = (y_1, \\dots, y_{|X|})$ - вектор ответов.\n",
    "    \n",
    "    'variance': Дисперсия (среднее квадратичное отклонение от среднего) $F(X) = \\dfrac{1}{|X|} \\sum_{x_j \\in X}(y_j - \\dfrac{1}{|X|}\\sum_{x_i \\in X}y_i)^2$\n",
    "    \n",
    "    'mad_median': Среднее отклонение от медианы $F(X) = \\dfrac{1}{|X|} \\sum_{x_j \\in X}|y_j - \\mathrm{med}(y)|$\n",
    "    \n",
    "- класс имеет методы `fit`, `predict` и `predict_proba`;\n",
    "\n",
    "- ---\n",
    "- метод `fit` принимает матрицу объектов `X` и вектор ответов `y` (объекты `numpy.ndarray`) и возвращает экземпляр класса\n",
    "    `DecisionTree`, представляющий собой решающее дерево, обученное по выборке `(X, y)` с учётом заданных в конструкторе параметров; \n",
    "------\n",
    "- метод `predict_proba` принимает матрицу объектов `X` и возвращает матрицу `P` размера `X.shape[0] x K`, где `K` - число классов, такую что $p_{ij}$ есть вероятность принадлежности объекта, заданного $i$-ой строкой матрицы X к классу $j \\in \\{1, \\dots, K\\}$.\n",
    "_______\n",
    "- метод `predict` принимает матрицу объектов и возвращает вектор предсказанных ответов; в случае классификации - это \n",
    "    наиболее многочисленный класс в листе, в который попал объект, а в случае регрессии - среднее значение ответов по \n",
    "    всем объектам этого листа;"
   ]
  },
  {
   "cell_type": "code",
   "execution_count": 125,
   "metadata": {},
   "outputs": [],
   "source": [
    "def entropy(y):    \n",
    "    pass\n",
    "\n",
    "def gini(y):\n",
    "    pass\n",
    "\n",
    "def variance(y):\n",
    "    '''\n",
    "    $F(X) = \\dfrac{1}{|X|} \\sum_{x_j \\in X}(y_j - \\dfrac{1}{|X|}\\sum_{x_i \\in X}y_i)^2$\n",
    "    '''\n",
    "    l = len(y)\n",
    "    if l == 0:\n",
    "        return 0\n",
    "    mean = (1/l)*np.sum(y)\n",
    "    s = 0\n",
    "    for i in range(l):\n",
    "        s += (y[i]-mean)**2\n",
    "    return (1/l)*s\n",
    "\n",
    "def mad_median(y):\n",
    "    l = len(y)\n",
    "    med = np.median(y)\n",
    "    s = 0\n",
    "    for i in range(l):\n",
    "        s += np.abs(y[i]-med)\n",
    "    return (1/l)*s\n"
   ]
  },
  {
   "cell_type": "code",
   "execution_count": 153,
   "metadata": {},
   "outputs": [],
   "source": [
    "#test\n",
    "\n",
    "X = np.linspace(-2, 2, 50)\n",
    "y = X ** 3\n"
   ]
  },
  {
   "cell_type": "code",
   "execution_count": 165,
   "metadata": {},
   "outputs": [],
   "source": [
    "class DecisionTree(BaseEstimator):\n",
    "\n",
    "    class Node:\n",
    "        \n",
    "        def __init__(self, value=None, left=None, right=None):\n",
    "            self.left = left\n",
    "            self.right = right\n",
    "            self.value = value\n",
    "    \n",
    "        def set_val(self, val):\n",
    "            self.value = val\n",
    "    \n",
    "        def set_left(self, val_l):\n",
    "            self.left = val_l\n",
    "            \n",
    "        def set_right(self, val_r):\n",
    "            self.right = val_r\n",
    "            \n",
    "        def get_left(self):\n",
    "            return self.left\n",
    "    \n",
    "        def get_right(self):\n",
    "            return self.right\n",
    "        \n",
    "        def has_left(self):\n",
    "            return self.left != None\n",
    "        \n",
    "        def has_right(self):\n",
    "            return self.right != None\n",
    "    \n",
    "    def __init__(self, max_depth=np.inf, min_samples_split=2, \n",
    "                 criterion='variance', debug=False):\n",
    "        self.criterias = { \n",
    "                    'variance':variance,\n",
    "                    'mad_median':mad_median\n",
    "                }\n",
    "        self.min_samples_split = min_samples_split\n",
    "        self.crit_ = self.criterias[criterion]\n",
    "        self.root_node = DecisionTree.Node()\n",
    "    \n",
    "    \n",
    "    def find_better_split(self, X, y):\n",
    "        if len(X) == 0:\n",
    "            return 0, 0, 0\n",
    "        l = X.shape[0]\n",
    "        max_crit= -np.inf\n",
    "        t = X[0]\n",
    "        position = 0\n",
    "        for i in range(0,l):\n",
    "            Q = self.criterion_(X,y,X[i])\n",
    "            #print(Q)\n",
    "            if Q >= max_crit:\n",
    "                max_crit = Q\n",
    "                t = X[i]\n",
    "                position = i\n",
    "        return max_crit, t, position\n",
    "    \n",
    "    def split(self, X, y, position, rootNode):\n",
    "        if len(X) < self.min_samples_split:\n",
    "            return\n",
    "        root_X = X[position]\n",
    "        #set vale\n",
    "        rootNode.set_val(root_X)\n",
    "        print('ROOT_X:', root_X)\n",
    "        X_l = X[:position-1]\n",
    "        y_l = y[:position-1]\n",
    "        \n",
    "        X_r = X[position+1:]\n",
    "        y_r = y[position+1:]\n",
    "        \n",
    "        #go left\n",
    "        Q_l, t_l, position_l = self.find_better_split(X_l, y_l)\n",
    "        left_node = DecisionTree.Node()\n",
    "        rootNode.set_left(left_node)\n",
    "        print('LEFT')\n",
    "        self.split(X_l, y_l, position_l, left_node)\n",
    "        print('LEFT_END')\n",
    "        \n",
    "        #go right\n",
    "        Q_r, t_r, position_r = self.find_better_split(X_r, y_r)\n",
    "        right_node = DecisionTree.Node()\n",
    "        rootNode.set_right(right_node)\n",
    "        print('RIGHT')\n",
    "        self.split(X_r, y_r, position_r, right_node)\n",
    "        print('RIGHT_END')    \n",
    "\n",
    "    \n",
    "    def fit(self, X, y):\n",
    "        #Initial split\n",
    "        Q, t, position = self.find_better_split(X, y)\n",
    "        \n",
    "        self.split(X, y, position, self.root_node)\n",
    "        \n",
    "        print(self.root_node)\n",
    "        \n",
    "        \n",
    "    def predict(self, X):\n",
    "        \n",
    "        pass\n",
    "        \n",
    "    def predict_proba(self, X):\n",
    "        pass\n",
    "    \n",
    "    def criterion_(self, X, y, t):\n",
    "        FX = self.crit_\n",
    "        y_l = y[X<t]\n",
    "        y_r = y[~(X<t)]\n",
    "        capacity_X = X.shape[0]\n",
    "        capacity_y_l = y_l.shape[0]\n",
    "        capacity_y_r = y_r.shape[0]\n",
    "        return FX(y) - (capacity_y_l/capacity_X)*FX(y_l) - (capacity_y_r/capacity_X)*FX(y_r)"
   ]
  },
  {
   "cell_type": "code",
   "execution_count": 166,
   "metadata": {},
   "outputs": [
    {
     "name": "stdout",
     "output_type": "stream",
     "text": [
      "FULL [-2.         -1.91836735 -1.83673469 -1.75510204 -1.67346939 -1.59183673\n",
      " -1.51020408 -1.42857143 -1.34693878 -1.26530612 -1.18367347 -1.10204082\n",
      " -1.02040816 -0.93877551 -0.85714286 -0.7755102  -0.69387755 -0.6122449\n",
      " -0.53061224 -0.44897959 -0.36734694 -0.28571429 -0.20408163 -0.12244898\n",
      " -0.04081633  0.04081633  0.12244898  0.20408163  0.28571429  0.36734694\n",
      "  0.44897959  0.53061224  0.6122449   0.69387755  0.7755102   0.85714286\n",
      "  0.93877551  1.02040816  1.10204082  1.18367347  1.26530612  1.34693878\n",
      "  1.42857143  1.51020408  1.59183673  1.67346939  1.75510204  1.83673469\n",
      "  1.91836735  2.        ]\n",
      "ROOT_X: 1.1836734693877546\n",
      "LEFT\n",
      "ROOT_X: -1.3469387755102042\n",
      "LEFT\n",
      "ROOT_X: -1.7551020408163265\n",
      "LEFT\n",
      "ROOT_X: -1.9183673469387754\n",
      "LEFT\n",
      "LEFT_END\n",
      "RIGHT\n",
      "RIGHT_END\n",
      "LEFT_END\n",
      "RIGHT\n",
      "ROOT_X: -1.5918367346938775\n",
      "LEFT\n",
      "LEFT_END\n",
      "RIGHT\n",
      "RIGHT_END\n",
      "RIGHT_END\n",
      "LEFT_END\n",
      "RIGHT\n",
      "ROOT_X: -0.7755102040816328\n",
      "LEFT\n",
      "ROOT_X: -1.1020408163265307\n",
      "LEFT\n",
      "LEFT_END\n",
      "RIGHT\n",
      "ROOT_X: -0.9387755102040818\n",
      "LEFT\n",
      "LEFT_END\n",
      "RIGHT\n",
      "RIGHT_END\n",
      "RIGHT_END\n",
      "LEFT_END\n",
      "RIGHT\n",
      "ROOT_X: 0.7755102040816326\n",
      "LEFT\n",
      "ROOT_X: -0.44897959183673475\n",
      "LEFT\n",
      "ROOT_X: -0.6122448979591837\n",
      "LEFT\n",
      "LEFT_END\n",
      "RIGHT\n",
      "RIGHT_END\n",
      "LEFT_END\n",
      "RIGHT\n",
      "ROOT_X: 0.4489795918367343\n",
      "LEFT\n",
      "ROOT_X: -0.20408163265306145\n",
      "LEFT\n",
      "LEFT_END\n",
      "RIGHT\n",
      "ROOT_X: 0.2857142857142856\n",
      "LEFT\n",
      "ROOT_X: -0.04081632653061229\n",
      "LEFT\n",
      "LEFT_END\n",
      "RIGHT\n",
      "ROOT_X: 0.12244897959183643\n",
      "LEFT\n",
      "LEFT_END\n",
      "RIGHT\n",
      "RIGHT_END\n",
      "RIGHT_END\n",
      "LEFT_END\n",
      "RIGHT\n",
      "RIGHT_END\n",
      "RIGHT_END\n",
      "LEFT_END\n",
      "RIGHT\n",
      "ROOT_X: 0.6122448979591835\n",
      "LEFT\n",
      "LEFT_END\n",
      "RIGHT\n",
      "RIGHT_END\n",
      "RIGHT_END\n",
      "RIGHT_END\n",
      "LEFT_END\n",
      "RIGHT\n",
      "ROOT_X: 1.020408163265306\n",
      "LEFT\n",
      "LEFT_END\n",
      "RIGHT\n",
      "RIGHT_END\n",
      "RIGHT_END\n",
      "RIGHT_END\n",
      "RIGHT_END\n",
      "LEFT_END\n",
      "RIGHT\n",
      "ROOT_X: 1.7551020408163263\n",
      "LEFT\n",
      "ROOT_X: 1.510204081632653\n",
      "LEFT\n",
      "ROOT_X: 1.3469387755102038\n",
      "LEFT\n",
      "LEFT_END\n",
      "RIGHT\n",
      "RIGHT_END\n",
      "LEFT_END\n",
      "RIGHT\n",
      "RIGHT_END\n",
      "LEFT_END\n",
      "RIGHT\n",
      "ROOT_X: 2.0\n",
      "LEFT\n",
      "LEFT_END\n",
      "RIGHT\n",
      "RIGHT_END\n",
      "RIGHT_END\n",
      "RIGHT_END\n",
      "<__main__.DecisionTree.Node object at 0x7f58c372ff60>\n"
     ]
    }
   ],
   "source": [
    "print('FULL',X)\n",
    "tree = DecisionTree(criterion='variance')\n",
    "tree.fit(X, y)"
   ]
  },
  {
   "cell_type": "markdown",
   "metadata": {},
   "source": [
    "## Тестирование реализованного алгоритма"
   ]
  },
  {
   "cell_type": "markdown",
   "metadata": {},
   "source": [
    "### Классификация"
   ]
  },
  {
   "cell_type": "markdown",
   "metadata": {},
   "source": [
    "С помощью метода `load_digits` загрузите датасет `digits`. Разделите выборку на обучающую и тестовую с помощью метода `train_test_split`, используйте значения параметров `test_size=0.2`, `random_state=17`. Попробуйте обучить неглубокие решающие деревья и убедитесь, что критерии gini и entropy дают разные результаты."
   ]
  },
  {
   "cell_type": "code",
   "execution_count": null,
   "metadata": {
    "collapsed": true
   },
   "outputs": [],
   "source": [
    "# Ваш код здесь"
   ]
  },
  {
   "cell_type": "markdown",
   "metadata": {},
   "source": [
    "С помощью 5-кратной кросс-валидации (`GridSearchCV`) подберите оптимальное значение параметров `max_depth` и `criterion`. Для параметра `max_depth` используйте диапазон значений - range(3, 11), а для criterion - {'gini', 'entropy'}. Критерий качества `scoring`='accuracy'."
   ]
  },
  {
   "cell_type": "code",
   "execution_count": null,
   "metadata": {
    "collapsed": true
   },
   "outputs": [],
   "source": [
    "# Ваш код здесь"
   ]
  },
  {
   "cell_type": "markdown",
   "metadata": {},
   "source": [
    "Постройте графики средних значений критерия качества `accuracy` для критериев `gini` и `entropy` в зависимости от `max_depth`."
   ]
  },
  {
   "cell_type": "code",
   "execution_count": null,
   "metadata": {
    "collapsed": true
   },
   "outputs": [],
   "source": [
    "# Ваш код здесь"
   ]
  },
  {
   "cell_type": "markdown",
   "metadata": {},
   "source": [
    "**Выберите верные утверждения:**\n",
    "1. Оптимальное значение max_depth для каждого критерия достигается внутри отрезка [3, 10] (то есть на отрезке [4, 9]).\n",
    "2. На отрезке [3, 10] построенные графики не пересекаются.\n",
    "3. На отрезке [3, 10] построенные графики пересекаются ровно один раз.\n",
    "4. Наилучшее качество при max_depth на интервале [3, 10] достигается на критерии gini.\n",
    "5. Хотя бы для одного из критериев значение accuracy строго возрастает с ростом значения max_depth на интервале [3, 10]."
   ]
  },
  {
   "cell_type": "markdown",
   "metadata": {},
   "source": [
    "**Чему равны найденные оптимальные значения параметров max_depth и criterion?**\n",
    "1. max_depth = 4, criterion = 'gini';\n",
    "2. max_depth = 7, criterion = 'entropy';\n",
    "3. max_depth = 10, criterion = 'entropy';\n",
    "4. max_depth = 10, criterion = 'gini';\n",
    "5. max_depth = 3, criterion = 'entropy';\n",
    "6. max_depth = 9, criterion = 'gini';"
   ]
  },
  {
   "cell_type": "markdown",
   "metadata": {},
   "source": [
    "Используя найденные оптимальные значения max_depth и criterion, обучите решающее дерево на X_train, y_train и вычислите вероятности принадлежности к классам для X_test."
   ]
  },
  {
   "cell_type": "code",
   "execution_count": null,
   "metadata": {
    "collapsed": true
   },
   "outputs": [],
   "source": [
    "# Ваш код здесь"
   ]
  },
  {
   "cell_type": "markdown",
   "metadata": {},
   "source": [
    "Для полученной матрицы вычислите усредненные по всем объектам из `X_test` значения вероятностей принадлежности к классам."
   ]
  },
  {
   "cell_type": "markdown",
   "metadata": {},
   "source": [
    "**Вопрос:** Чему равна максимальная вероятность в полученном векторе?\n",
    "1. 0.11218791\n",
    "2. 0.11783761\n",
    "3. 1.0\n",
    "4. 0.0875"
   ]
  },
  {
   "cell_type": "markdown",
   "metadata": {},
   "source": [
    "### Регрессия"
   ]
  },
  {
   "cell_type": "markdown",
   "metadata": {},
   "source": [
    "С помощью метода `load_boston` загрузите датасет `boston`. Разделите выборку на обучающую и тестовую с помощью метода `train_test_split`, используйте значения параметров `test_size=0.2`, `random_state=17`. Попробуйте обучить неглубокие регрессионные деревья и убедитесь, что критерии `variance` и `mad_median` дают разные результаты."
   ]
  },
  {
   "cell_type": "code",
   "execution_count": null,
   "metadata": {
    "collapsed": true
   },
   "outputs": [],
   "source": [
    "# Ваш код здесь"
   ]
  },
  {
   "cell_type": "markdown",
   "metadata": {},
   "source": [
    "С помощью 5-кратной кросс-валидации подберите оптимальное значение параметров `max_depth` и `criterion`. Для параметра `max_depth` используйте диапазон значений - `range(2, 9)`, а для `criterion` - {'variance', 'mad_median'}. Критерий качества `scoring`='neg_mean_squared_error'."
   ]
  },
  {
   "cell_type": "code",
   "execution_count": null,
   "metadata": {
    "collapsed": true
   },
   "outputs": [],
   "source": [
    "# Ваш код здесь"
   ]
  },
  {
   "cell_type": "markdown",
   "metadata": {},
   "source": [
    "Постройте графики средних значений критерия качества `neg_mean_squared_error` для критериев `variance` и `mad_median` в зависимости от `max_depth`."
   ]
  },
  {
   "cell_type": "code",
   "execution_count": null,
   "metadata": {
    "collapsed": true
   },
   "outputs": [],
   "source": [
    "# Ваш код здесь"
   ]
  },
  {
   "cell_type": "markdown",
   "metadata": {},
   "source": [
    "**Выберите верные утверждения:**\n",
    "1. На отрезке [2, 8] построенные графики не пересекаются.\n",
    "2. На отрезке [2, 8] построенные графики пересекаются ровно один раз.\n",
    "3. Оптимальное значение max_depth для каждого из критериев достигается на границе отрезка [2, 8].\n",
    "4. Наилучшее качество при max_depth in range(2, 9) достигается на критерии variance.\n",
    "5. График качества ровно для одного из критериев имеет явно выраженный пик."
   ]
  },
  {
   "cell_type": "markdown",
   "metadata": {},
   "source": [
    "**Чему равны найденные оптимальные значения параметров `max_depth` и `criterion`?**\n",
    "1. max_depth = 9, criterion = 'variance';\n",
    "2. max_depth = 5, criterion = 'mad_median';\n",
    "3. max_depth = 4, criterion = 'variance';\n",
    "4. max_depth = 2, criterion = 'mad_median';\n",
    "5. max_depth = 4, criterion = 'mad_median';\n",
    "6. max_depth = 8, criterion = 'variance';"
   ]
  }
 ],
 "metadata": {
  "kernelspec": {
   "display_name": "Python 3",
   "language": "python",
   "name": "python3"
  },
  "language_info": {
   "codemirror_mode": {
    "name": "ipython",
    "version": 3
   },
   "file_extension": ".py",
   "mimetype": "text/x-python",
   "name": "python",
   "nbconvert_exporter": "python",
   "pygments_lexer": "ipython3",
   "version": "3.5.2"
  },
  "name": "lesson4_part2_Decision_trees.ipynb"
 },
 "nbformat": 4,
 "nbformat_minor": 1
}
