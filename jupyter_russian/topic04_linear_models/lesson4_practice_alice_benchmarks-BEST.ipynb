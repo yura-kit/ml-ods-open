{
 "cells": [
  {
   "cell_type": "markdown",
   "metadata": {},
   "source": [
    "<center>\n",
    "<img src=\"../../img/ods_stickers.jpg\">\n",
    "## Открытый курс по машинному обучению. Сессия № 2\n",
    "</center>\n",
    "Автор материала: Юрий Исаков и Юрий Кашницкий. Материал распространяется на условиях лицензии [Creative Commons CC BY-NC-SA 4.0](https://creativecommons.org/licenses/by-nc-sa/4.0/). Можно использовать в любых целях (редактировать, поправлять и брать за основу), кроме коммерческих, но с обязательным упоминанием автора материала."
   ]
  },
  {
   "cell_type": "markdown",
   "metadata": {},
   "source": [
    "# <center>Тема 4. Линейные модели классификации и регрессии\n",
    "## <center>  Практика. Идентификация пользователя с помощью логистической регрессии\n",
    "\n",
    "Тут мы воспроизведем парочку бенчмарков нашего соревнования и вдохновимся побить третий бенчмарк, а также остальных участников. Веб-формы для отправки ответов тут не будет, ориентир – [leaderboard](https://www.kaggle.com/c/catch-me-if-you-can-intruder-detection-through-webpage-session-tracking2/leaderboard) соревнования."
   ]
  },
  {
   "cell_type": "code",
   "execution_count": 7,
   "metadata": {},
   "outputs": [],
   "source": [
    "import pickle\n",
    "import numpy as np\n",
    "import pandas as pd\n",
    "from tqdm import tqdm_notebook\n",
    "from scipy.sparse import csr_matrix, hstack\n",
    "from sklearn.preprocessing import StandardScaler\n",
    "from sklearn.metrics import roc_auc_score\n",
    "from sklearn.linear_model import LogisticRegression\n",
    "from sklearn.linear_model import SGDClassifier\n",
    "\n",
    "%matplotlib inline\n",
    "from matplotlib import pyplot as plt\n",
    "import seaborn as sns\n",
    "import datetime \n",
    "from xgboost import XGBClassifier\n",
    "from collections import Counter\n",
    "import seaborn as sns\n",
    "import matplotlib.pyplot as plt\n",
    "import time\n",
    "import datetime as dt\n",
    "import os"
   ]
  },
  {
   "cell_type": "markdown",
   "metadata": {},
   "source": [
    "### 1. Загрузка и преобразование данных\n",
    "Зарегистрируйтесь на [Kaggle](www.kaggle.com), если вы не сделали этого раньше, зайдите на [страницу](https://inclass.kaggle.com/c/catch-me-if-you-can-intruder-detection-through-webpage-session-tracking2) соревнования и скачайте данные. Первым делом загрузим обучающую и тестовую выборки и посмотрим на данные."
   ]
  },
  {
   "cell_type": "code",
   "execution_count": 8,
   "metadata": {},
   "outputs": [],
   "source": [
    "# загрузим обучающую и тестовую выборки\n",
    "train_df = pd.read_csv('../../data/train_sessions.csv',\n",
    "                       index_col='session_id')\n",
    "test_df = pd.read_csv('../../data/test_sessions.csv',\n",
    "                      index_col='session_id')\n",
    "\n",
    "# приведем колонки time1, ..., time10 к временному формату\n",
    "times = ['time%s' % i for i in range(1, 11)]\n",
    "train_df[times] = train_df[times].apply(pd.to_datetime)\n",
    "test_df[times] = test_df[times].apply(pd.to_datetime)\n",
    "\n",
    "train_df = train_df[(train_df['time1'] > datetime.date(year=2013,month=11,day=1))]\n",
    "#--------------------------------------\n",
    "#filtering\n",
    "\n",
    "\n",
    "start = dt.datetime.strptime('2014-01-01 00:00:00', '%Y-%m-%d %H:%M:%S')\n",
    "end = dt.datetime.strptime('2013-01-13 01:00:00', '%Y-%m-%d %H:%M:%S')\n",
    "train_df = train_df[(train_df['time1'] <= start) | (train_df['time1'] >= end)]\n",
    "\n",
    "# start = dt.datetime.strptime('2013-12-01 00:00:00', '%Y-%m-%d %H:%M:%S')\n",
    "# end = dt.datetime.strptime('2013-12-19 01:00:00', '%Y-%m-%d %H:%M:%S')\n",
    "# df1 = train_df[(train_df['time1'] > start) & (train_df['time1'] < end)]\n",
    "\n",
    "# start = dt.datetime.strptime('2013-12-19 00:00:00', '%Y-%m-%d %H:%M:%S')\n",
    "# end = dt.datetime.strptime('2014-03-05 01:00:00', '%Y-%m-%d %H:%M:%S')\n",
    "# df2 = train_df[(train_df['time1'] > start) & (train_df['time1'] < end)]\n",
    "\n",
    "# start = dt.datetime.strptime('2014-03-18 00:00:00', '%Y-%m-%d %H:%M:%S')\n",
    "# df3 = train_df[(train_df['time1'] > start) ]\n",
    "\n",
    "\n",
    "# train_df = pd.concat([df1,df2,df3])\n",
    "#-------------------------------------\n",
    "\n",
    "df = pd.concat([train_df.target, train_df.time1.dt.weekday.rename('weekday'), train_df.time1.dt.hour.rename('hour')], axis=1)\n",
    "piv = pd.pivot_table(df, values=\"target\",index=[\"hour\"], columns=[\"weekday\"], fill_value=0, aggfunc=np.sum)\n",
    "sns.heatmap(piv)\n",
    "\n",
    "\n",
    "df = pd.concat([train_df.target, ((train_df.time1.dt.year-2013)*365+train_df.time1.dt.dayofyear).rename('dayofyear'), train_df.time1.dt.hour.rename('hour')], axis=1)\n",
    "piv = pd.pivot_table(df, values=\"target\",index=[\"hour\"], columns=[\"dayofyear\"], fill_value=0, aggfunc=np.sum)\n",
    "sns.heatmap(piv)\n",
    "\n",
    "# отсортируем данные по времени\n",
    "train_df = train_df.sort_values(by='time1')\n",
    "\n",
    "# посмотрим на заголовок обучающей выборки\n",
    "#train_df.head()"
   ]
  },
  {
   "cell_type": "code",
   "execution_count": 9,
   "metadata": {
    "scrolled": true
   },
   "outputs": [],
   "source": [
    "#train_df['time1'].dt.date.to_csv('train_dates')\n",
    "\n",
    "#fig, ax = plt.subplots(figsize=(20,10)) \n",
    "\n",
    "#train_df.groupby(train_df['time1'].dt.date).to_csv('train_dates')"
   ]
  },
  {
   "cell_type": "code",
   "execution_count": 10,
   "metadata": {},
   "outputs": [
    {
     "data": {
      "text/plain": [
       "<matplotlib.axes._subplots.AxesSubplot at 0x7f17a2080080>"
      ]
     },
     "execution_count": 10,
     "metadata": {},
     "output_type": "execute_result"
    },
    {
     "data": {
      "image/png": "[encoded data removed]",
      "text/plain": [
       "<matplotlib.figure.Figure at 0x7f17c95997f0>"
      ]
     },
     "metadata": {},
     "output_type": "display_data"
    }
   ],
   "source": [
    "\n",
    "PATH_TO_DATA = ('../../data')\n",
    "\n",
    "\n",
    "start = dt.datetime.strptime('2013-02-28 00:00:00', '%Y-%m-%d %H:%M:%S')\n",
    "end = dt.datetime.strptime('2014-04-28 01:00:00', '%Y-%m-%d %H:%M:%S')\n",
    "\n",
    "\n",
    "\n",
    "fig, ax = plt.subplots(figsize=(20,10)) \n",
    "\n",
    "train_for_check = pd.read_csv(os.path.join(PATH_TO_DATA, 'train_sessions.csv'), index_col='time1', parse_dates=['time1'])\n",
    "train_for_check = train_for_check[train_for_check['target'] == 1]\n",
    "y_may = train_for_check[str(start):str(end)]['target']\n",
    "\n",
    "#print(train_df[train_df['target'] == 1].shape)\n",
    "times = ['time%s' % i for i in range(1, 11)]\n",
    "\n",
    "y_may.plot(style='k.', ax=ax)"
   ]
  },
  {
   "cell_type": "markdown",
   "metadata": {},
   "source": [
    "В обучающей выборке содержатся следующие признаки:\n",
    "    - site1 – индекс первого посещенного сайта в сессии\n",
    "    - time1 – время посещения первого сайта в сессии\n",
    "    - ...\n",
    "    - site10 – индекс 10-го посещенного сайта в сессии\n",
    "    - time10 – время посещения 10-го сайта в сессии\n",
    "    - target – целевая переменная, 1 для сессий Элис, 0 для сессий других пользователей\n",
    "    \n",
    "Сессии пользователей выделены таким образом, что они не могут быть длиннее получаса или 10 сайтов. То есть сессия считается оконченной либо когда пользователь посетил 10 сайтов подряд либо когда сессия заняла по времени более 30 минут.\n",
    "\n",
    "В таблице встречаются пропущенные значения, это значит, что сессия состоит менее, чем из 10 сайтов. Заменим пропущенные значения нулями и приведем признаки к целому типу. Также загрузим словарь сайтов и посмотрим, как он выглядит:"
   ]
  },
  {
   "cell_type": "code",
   "execution_count": 11,
   "metadata": {},
   "outputs": [
    {
     "name": "stdout",
     "output_type": "stream",
     "text": [
      "всего сайтов: 48371\n"
     ]
    },
    {
     "data": {
      "text/html": [
       "<div>\n",
       "<style scoped>\n",
       "    .dataframe tbody tr th:only-of-type {\n",
       "        vertical-align: middle;\n",
       "    }\n",
       "\n",
       "    .dataframe tbody tr th {\n",
       "        vertical-align: top;\n",
       "    }\n",
       "\n",
       "    .dataframe thead th {\n",
       "        text-align: right;\n",
       "    }\n",
       "</style>\n",
       "<table border=\"1\" class=\"dataframe\">\n",
       "  <thead>\n",
       "    <tr style=\"text-align: right;\">\n",
       "      <th></th>\n",
       "      <th>site</th>\n",
       "    </tr>\n",
       "  </thead>\n",
       "  <tbody>\n",
       "    <tr>\n",
       "      <th>37013</th>\n",
       "      <td>www.revue-texto.net</td>\n",
       "    </tr>\n",
       "    <tr>\n",
       "      <th>14126</th>\n",
       "      <td>i1-js-14-3-01-11074-548663891-i.init.cedexis-r...</td>\n",
       "    </tr>\n",
       "    <tr>\n",
       "      <th>20884</th>\n",
       "      <td>us18.zopim.com</td>\n",
       "    </tr>\n",
       "    <tr>\n",
       "      <th>34299</th>\n",
       "      <td>i1-js-14-3-01-10005-444737283-i.init.cedexis-r...</td>\n",
       "    </tr>\n",
       "    <tr>\n",
       "      <th>22549</th>\n",
       "      <td>imagescms.lelynx.fr</td>\n",
       "    </tr>\n",
       "  </tbody>\n",
       "</table>\n",
       "</div>"
      ],
      "text/plain": [
       "                                                    site\n",
       "37013                                www.revue-texto.net\n",
       "14126  i1-js-14-3-01-11074-548663891-i.init.cedexis-r...\n",
       "20884                                     us18.zopim.com\n",
       "34299  i1-js-14-3-01-10005-444737283-i.init.cedexis-r...\n",
       "22549                                imagescms.lelynx.fr"
      ]
     },
     "execution_count": 11,
     "metadata": {},
     "output_type": "execute_result"
    }
   ],
   "source": [
    "# приведем колонки site1, ..., site10 к целочисленному формату и заменим пропуски нулями\n",
    "sites = ['site%s' % i for i in range(1, 11)]\n",
    "train_df[sites] = train_df[sites].fillna(0).astype('int')\n",
    "test_df[sites] = test_df[sites].fillna(0).astype('int')\n",
    "\n",
    "# загрузим словарик сайтов\n",
    "with open(r\"../../data/site_dic.pkl\", \"rb\") as input_file:\n",
    "    site_dict = pickle.load(input_file)\n",
    "\n",
    "# датафрейм словарика сайтов\n",
    "sites_dict_df = pd.DataFrame(list(site_dict.keys()), \n",
    "                          index=list(site_dict.values()), \n",
    "                          columns=['site'])\n",
    "print(u'всего сайтов:', sites_dict_df.shape[0])\n",
    "sites_dict_df.head()"
   ]
  },
  {
   "cell_type": "markdown",
   "metadata": {},
   "source": [
    "Выделим целевую переменную и объединим выборки, чтобы вместе привести их к разреженному формату."
   ]
  },
  {
   "cell_type": "code",
   "execution_count": 291,
   "metadata": {},
   "outputs": [],
   "source": [
    "# наша целевая переменная\n",
    "y_train = train_df['target']\n",
    "\n",
    "# объединенная таблица исходных данных\n",
    "full_df = pd.concat([train_df.drop('target', axis=1), test_df])\n",
    "\n",
    "\n",
    "# new_features = [\n",
    "#                 '07_08',\n",
    "#                 '12_13',\n",
    "#                'is_sunday',\n",
    "#                 '16_18',\n",
    "#                 '19_23',\n",
    "#     'is_monday',\n",
    "#                'is_tuesday',\n",
    "#                 'yyyymm',\n",
    "#                ]\n",
    "#0.9840773\n",
    "#0.94898\n",
    "\n",
    "# new_features = [\n",
    "#                 '07_08',\n",
    "#                 '12_13',\n",
    "#                 '16_18',\n",
    "#                 'is_sunday',\n",
    "#                 'is_monday',\n",
    "#                'is_tuesday',\n",
    "#                 'yyyymm',\n",
    "#     'duration'\n",
    "#                ]\n",
    "#\n",
    "#0.951 kag\n",
    "#0.9854357311817761\n",
    "#0.969 074854553\n",
    "\n",
    "\n",
    "# new_features = [\n",
    "#                 '07_08',\n",
    "#                 '12_13',\n",
    "#                 '16_18',\n",
    "#                 'is_sunday',\n",
    "#                 'is_monday',\n",
    "#                'is_tuesday',\n",
    "#                     'is_saturday',\n",
    "#                 'yyyymm',\n",
    "#     'duration',\n",
    "#                ]\n",
    "#0.95101\n",
    "#0.969 3055832962\n",
    "\n",
    "\n",
    "#---------------------\n",
    "# new_features = [\n",
    "#                 '07_08',\n",
    "#                 '12_13',\n",
    "#                 '16_18',\n",
    "#                 'is_sunday',\n",
    "#                 'is_monday',\n",
    "#                'is_tuesday',\n",
    "#                 'yyyymm',\n",
    "#                 'duration',\n",
    "#     'day_12',12\n",
    "#     'day_14',12\n",
    "#     'day_17',12\n",
    "#     'day_24',12\n",
    "#     'day_29'12\n",
    "#                ]\n",
    "#-0.00088\n",
    "#0.9698442695475425\n",
    "#0.95126\n",
    "\n",
    "# new_features = [\n",
    "#                 '07_08',\n",
    "#                 '12_13',\n",
    "#                 '16_18',\n",
    "#                 'is_sunday',\n",
    "#                 'is_monday',\n",
    "#                'is_tuesday',\n",
    "#                 'yyyymm',\n",
    "#                 'duration',\n",
    "#     'day_12', 'day_24',\n",
    "    \n",
    "#                ]\n",
    "\n",
    "#0.950\n",
    "#0.9712656951593279\n",
    "\n",
    "\n",
    "# new_features = [\n",
    "#                 '07_08',\n",
    "#                 '12_13',\n",
    "#                 '16_18',\n",
    "#                 'is_sunday',\n",
    "#                 'is_monday',\n",
    "#                'is_tuesday',\n",
    "#                 'yyyymm',\n",
    "#                 'duration',\n",
    "#     'day_12'\n",
    "    \n",
    "#                ]\n",
    "#auc 0.9698266797074342\n",
    "#0.95127\n",
    "\n",
    "\n",
    "# new_features = [\n",
    "#                 '07_08',\n",
    "#                 '12_13',\n",
    "#                 '16_18',\n",
    "#                 'is_sunday',\n",
    "#                 'is_monday',\n",
    "#                'is_tuesday',\n",
    "#     'is_thursday',\n",
    "#                 'yyyymm',\n",
    "#                 'duration',\n",
    "#     'day_12',\n",
    "#                ]\n",
    "#0.9511814\n",
    "\n",
    "# new_features = [\n",
    "#                 '07_08',\n",
    "#                 '12_13',\n",
    "#                 '16_18',\n",
    "#                 'is_sunday',\n",
    "#                 'is_monday',\n",
    "#                'is_tuesday',\n",
    "#                 'yyyymm',\n",
    "#                 'duration',\n",
    "#     'day_12',\n",
    "#     '19_23'\n",
    "#                ]\n",
    "#\n",
    "#\n",
    "#0.95134 kagle\n",
    "#0.96982466051\n",
    "\n",
    "# new_features = [\n",
    "#                 '07_08',  \n",
    "#                 '10_11',\n",
    "#                 '12_13',\n",
    "#                 '16_18',\n",
    "#                 'is_sunday',\n",
    "#                 'is_monday',\n",
    "#                'is_tuesday',\n",
    "#                 'yyyymm',\n",
    "#                 'duration',\n",
    "#     'day_12',\n",
    "#     '19_23'\n",
    "#                ]\n",
    "\n",
    "new_features = [\n",
    "                '07_08',\n",
    "                '12_13',\n",
    "                '16_18',\n",
    "                'is_sunday',\n",
    "                'is_monday',\n",
    "               'is_tuesday',\n",
    "                'yyyymm',\n",
    "                'duration',\n",
    "    'day_12',\n",
    "    '19_23',\n",
    "    'session1',\n",
    "    \n",
    "               ]\n",
    "#0.95178\n",
    "\n",
    "new_features = [\n",
    "                '07_08',\n",
    "                '12_13',\n",
    "                '16_18',\n",
    "                'is_sunday',\n",
    "                'is_monday',\n",
    "               'is_tuesday',\n",
    "                'yyyymm',\n",
    "                'duration',\n",
    "    'day_12',\n",
    "     '19_23',\n",
    "               ]\n",
    "\n",
    "#0.95172\n",
    "\n",
    "new_features = [\n",
    "                'morning',\n",
    "                '12_13',\n",
    "                '16_18',\n",
    "                'is_sunday',\n",
    "                'is_monday',\n",
    "               'is_tuesday',\n",
    "                'yyyymm',\n",
    "                'duration',\n",
    "    'day_12',\n",
    "     '19_23',\n",
    "               ]\n",
    "\n",
    "\n",
    "full_df['start_session_day'] = full_df['time1'].dt.day\n",
    "full_df['month'] = full_df['time1'].dt.month\n",
    "full_df['month_9'] = (full_df['time1'].dt.month == 9).astype(int)\n",
    "\n",
    "full_df['month_quad'] = ((full_df['month'] >= 5) & (full_df['month'] <= 8)).astype(int)\n",
    "\n",
    "\n",
    "full_df['duration'] = (full_df[times].max(axis=1) - full_df['time1']).dt.seconds\n",
    "full_df['duration_alice'] = ((full_df['duration'] > 35) & (full_df['duration'] <= 40)).astype(int)\n",
    "\n",
    "full_df[\"morning\"] = ((full_df['time1'].dt.hour <= 11)).astype(int)\n",
    "\n",
    "full_df[\"07_09\"] = ((full_df['time1'].dt.hour >= 7) & (full_df['time1'].dt.hour <= 9)).astype(int)\n",
    "\n",
    "full_df[\"07_08\"] = ((full_df['time1'].dt.hour >= 7) & (full_df['time1'].dt.hour <= 8)).astype(int)\n",
    "full_df[\"10_11\"] = ((full_df['time1'].dt.hour >= 10) & (full_df['time1'].dt.hour <= 11)).astype(int)\n",
    "\n",
    "full_df[\"08_09\"] = ((full_df['time1'].dt.hour >= 8) & (full_df['time1'].dt.hour <= 9)).astype(int)\n",
    "\n",
    "full_df[\"12_13\"] = ((full_df['time1'].dt.hour >= 12) & (full_df['time1'].dt.hour <= 13)).astype(int)\n",
    "full_df[\"16_18\"] = ((full_df['time1'].dt.hour >= 16) & (full_df['time1'].dt.hour <= 18)).astype(int)\n",
    "full_df[\"19_23\"] = ((full_df['time1'].dt.hour >= 19) & (full_df['time1'].dt.hour <= 23)).astype(int)\n",
    "\n",
    "full_df[\"19_08\"] = ((full_df['time1'].dt.hour < 8) | (full_df['time1'].dt.hour >= 19)).astype(int)\n",
    "\n",
    "start = dt.datetime.strptime('2013-12-26 00:00:00', '%Y-%m-%d %H:%M:%S')\n",
    "end = dt.datetime.strptime('2014-01-20 01:00:00', '%Y-%m-%d %H:%M:%S')\n",
    "full_df[\"session1\"] = ((full_df['time1'] >= start) & (full_df['time1'] <= end)).astype(int)\n",
    "\n",
    "starth = dt.datetime.strptime('2014-01-22 00:00:00', '%Y-%m-%d %H:%M:%S')\n",
    "endh = dt.datetime.strptime('2014-02-01 01:00:00', '%Y-%m-%d %H:%M:%S')\n",
    "full_df[\"holidays1\"] = ((full_df['time1'] >= starth) & (full_df['time1'] <= endh)).astype(int)\n",
    "\n",
    "start2 = dt.datetime.strptime('2014-06-04 00:00:00', '%Y-%m-%d %H:%M:%S')\n",
    "end2 = dt.datetime.strptime('2014-06-30 01:00:00', '%Y-%m-%d %H:%M:%S')\n",
    "full_df[\"session2\"] = ( (full_df['time1'] >= start2) & (full_df['time1'] <= end2)).astype(int)\n",
    "\n",
    "start2h = dt.datetime.strptime('2014-07-01 00:00:00', '%Y-%m-%d %H:%M:%S')\n",
    "end2h = dt.datetime.strptime('2014-09-30 01:00:00', '%Y-%m-%d %H:%M:%S')\n",
    "full_df[\"holidays2\"] = ((full_df['time1'] >= start2h) & (full_df['time1'] <= end2h)).astype(int)\n",
    "\n",
    "# import pandas.tseries.holiday as hol\n",
    "# us_cal = hol.USFederalHolidayCalendar()\n",
    "# dr = pd.date_range(start='2013-07-01', end='2015-08-01')\n",
    "# us_holidays = us_cal.holidays(start=dr.min(), end=dr.max())\n",
    "# full_df['Holiday'] = full_df['time1'].isin(us_holidays)\n",
    "\n",
    "\n",
    "\n",
    "full_df['yyyymm'] = full_df['time1'].dt.strftime('%Y%m').astype(int)\n",
    "\n",
    "full_df[\"is_monday\"] = full_df['time1'].dt.weekday.isin([0])*1 #индикатор выходных\n",
    "full_df[\"is_tuesday\"] = full_df['time1'].dt.weekday.isin([1])*1 #индикатор выходных\n",
    "full_df[\"is_wednesday\"] = full_df['time1'].dt.weekday.isin([2])*1 #индикатор выходных\n",
    "full_df[\"is_thursday\"] = full_df['time1'].dt.weekday.isin([3])*1 #индикатор выходных\n",
    "full_df[\"is_friday\"] = full_df['time1'].dt.weekday.isin([4])*1 #индикатор выходных\n",
    "\n",
    "full_df[\"is_saturday\"] = full_df['time1'].dt.weekday.isin([5])*1 #индикатор выходных\n",
    "full_df[\"is_sunday\"] = full_df['time1'].dt.weekday.isin([6])*1 #индикатор выходных\n",
    "\n",
    "full_df['day_12'] = (full_df['time1'].dt.day == 12).astype(int)\n",
    "full_df['day_13'] = (full_df['time1'].dt.day == 13).astype(int)\n",
    "full_df['day_14'] = (full_df['time1'].dt.day == 14).astype(int)\n",
    "full_df['day_15'] = (full_df['time1'].dt.day == 15).astype(int)\n",
    "full_df['day_16'] = (full_df['time1'].dt.day == 16).astype(int)\n",
    "full_df['day_17'] = (full_df['time1'].dt.day == 17).astype(int)\n",
    "full_df['day_19'] = (full_df['time1'].dt.day == 19).astype(int)\n",
    "full_df['day_22'] = (full_df['time1'].dt.day == 22).astype(int)\n",
    "full_df['day_24'] = (full_df['time1'].dt.day == 24).astype(int)\n",
    "full_df['day_25'] = (full_df['time1'].dt.day == 25).astype(int)\n",
    "full_df['day_29'] = (full_df['time1'].dt.day == 29).astype(int)\n",
    "full_df['week_period'] = full_df['time1'].dt.day//7\n",
    "\n",
    "\n",
    "alice_words = train_df[(train_df['target'] == 1)][sites]\n",
    "alice_words['alice_text'] = alice_words[sites].astype(str).apply(lambda x: ' '.join(x), axis=1)\n",
    "alice_words_list = [word for word in alice_words['alice_text'].apply(lambda x: x.split(' '))]\n",
    "alice_flatten = list(np.array(alice_words_list).flat)\n",
    "alice_most_freq_sites = Counter(alice_flatten)#.most_common(100)\n",
    "alice_top_sites  = sorted(alice_most_freq_sites, key=alice_most_freq_sites.get, reverse=True)[:10]\n",
    "full_df['alice_top_words'] = (full_df[sites].astype(str).isin(alice_top_sites)==True).sum(axis=1)\n",
    "\n",
    "\n",
    "\n",
    "#full_df[\"is_thur_fri_lunch\"] = ((full_df['time1'].dt.weekday.isin([3,4])*1) & ((full_df['time1'].dt.hour >= 12) & (full_df['time1'].dt.hour <= 13)).astype(int)) #индикатор выходных\n",
    "#full_df[\"is_mon_tue_diner\"] = ((full_df['time1'].dt.weekday.isin([0,1])*1) & ((full_df['time1'].dt.hour >= 16) & (full_df['time1'].dt.hour <= 18)).astype(int)) #индикатор выходных\n",
    "\n",
    "\n",
    "# индекс, по которому будем отделять обучающую выборку от тестовой\n",
    "idx_split = train_df.shape[0]"
   ]
  },
  {
   "cell_type": "markdown",
   "metadata": {},
   "source": [
    "Для самой первой модели будем использовать только посещенные сайты в сессии (но не будем обращать внимание на временные признаки). За таким выбором данных для модели стоит такая идея:  *у Элис есть свои излюбленные сайты, и чем чаще вы видим эти сайты в сессии, тем выше вероятность, что это сессия Элис и наоборот.*\n",
    "\n",
    "Подготовим данные, из всей таблицы выберем только признаки `site1, site2, ... , site10`. Напомним, что пропущенные значения заменены нулем. Вот как выглядят первые строки таблицы:"
   ]
  },
  {
   "cell_type": "code",
   "execution_count": 292,
   "metadata": {},
   "outputs": [
    {
     "data": {
      "text/html": [
       "<div>\n",
       "<style scoped>\n",
       "    .dataframe tbody tr th:only-of-type {\n",
       "        vertical-align: middle;\n",
       "    }\n",
       "\n",
       "    .dataframe tbody tr th {\n",
       "        vertical-align: top;\n",
       "    }\n",
       "\n",
       "    .dataframe thead th {\n",
       "        text-align: right;\n",
       "    }\n",
       "</style>\n",
       "<table border=\"1\" class=\"dataframe\">\n",
       "  <thead>\n",
       "    <tr style=\"text-align: right;\">\n",
       "      <th></th>\n",
       "      <th>site1</th>\n",
       "      <th>site2</th>\n",
       "      <th>site3</th>\n",
       "      <th>site4</th>\n",
       "      <th>site5</th>\n",
       "      <th>site6</th>\n",
       "      <th>site7</th>\n",
       "      <th>site8</th>\n",
       "      <th>site9</th>\n",
       "      <th>site10</th>\n",
       "    </tr>\n",
       "    <tr>\n",
       "      <th>session_id</th>\n",
       "      <th></th>\n",
       "      <th></th>\n",
       "      <th></th>\n",
       "      <th></th>\n",
       "      <th></th>\n",
       "      <th></th>\n",
       "      <th></th>\n",
       "      <th></th>\n",
       "      <th></th>\n",
       "      <th></th>\n",
       "    </tr>\n",
       "  </thead>\n",
       "  <tbody>\n",
       "    <tr>\n",
       "      <th>168447</th>\n",
       "      <td>6725</td>\n",
       "      <td>41475</td>\n",
       "      <td>41476</td>\n",
       "      <td>41475</td>\n",
       "      <td>41475</td>\n",
       "      <td>6725</td>\n",
       "      <td>41475</td>\n",
       "      <td>41476</td>\n",
       "      <td>41476</td>\n",
       "      <td>6725</td>\n",
       "    </tr>\n",
       "    <tr>\n",
       "      <th>141689</th>\n",
       "      <td>22</td>\n",
       "      <td>707</td>\n",
       "      <td>56</td>\n",
       "      <td>55</td>\n",
       "      <td>55</td>\n",
       "      <td>23</td>\n",
       "      <td>21</td>\n",
       "      <td>222</td>\n",
       "      <td>57</td>\n",
       "      <td>21</td>\n",
       "    </tr>\n",
       "    <tr>\n",
       "      <th>6214</th>\n",
       "      <td>784</td>\n",
       "      <td>73</td>\n",
       "      <td>0</td>\n",
       "      <td>0</td>\n",
       "      <td>0</td>\n",
       "      <td>0</td>\n",
       "      <td>0</td>\n",
       "      <td>0</td>\n",
       "      <td>0</td>\n",
       "      <td>0</td>\n",
       "    </tr>\n",
       "    <tr>\n",
       "      <th>35728</th>\n",
       "      <td>820</td>\n",
       "      <td>820</td>\n",
       "      <td>167</td>\n",
       "      <td>167</td>\n",
       "      <td>359</td>\n",
       "      <td>167</td>\n",
       "      <td>167</td>\n",
       "      <td>3</td>\n",
       "      <td>167</td>\n",
       "      <td>384</td>\n",
       "    </tr>\n",
       "    <tr>\n",
       "      <th>243069</th>\n",
       "      <td>48</td>\n",
       "      <td>45</td>\n",
       "      <td>23</td>\n",
       "      <td>52</td>\n",
       "      <td>23</td>\n",
       "      <td>176</td>\n",
       "      <td>343</td>\n",
       "      <td>175</td>\n",
       "      <td>23</td>\n",
       "      <td>178</td>\n",
       "    </tr>\n",
       "  </tbody>\n",
       "</table>\n",
       "</div>"
      ],
      "text/plain": [
       "            site1  site2  site3  site4  site5  site6  site7  site8  site9  \\\n",
       "session_id                                                                  \n",
       "168447       6725  41475  41476  41475  41475   6725  41475  41476  41476   \n",
       "141689         22    707     56     55     55     23     21    222     57   \n",
       "6214          784     73      0      0      0      0      0      0      0   \n",
       "35728         820    820    167    167    359    167    167      3    167   \n",
       "243069         48     45     23     52     23    176    343    175     23   \n",
       "\n",
       "            site10  \n",
       "session_id          \n",
       "168447        6725  \n",
       "141689          21  \n",
       "6214             0  \n",
       "35728          384  \n",
       "243069         178  "
      ]
     },
     "execution_count": 292,
     "metadata": {},
     "output_type": "execute_result"
    }
   ],
   "source": [
    "# табличка с индексами посещенных сайтов в сессии\n",
    "full_sites = full_df[sites]\n",
    "full_sites.head()"
   ]
  },
  {
   "cell_type": "markdown",
   "metadata": {},
   "source": [
    "Сессии представляют собой последовательность индексов сайтов и данные в таком виде неудобны для линейных методов. В соответствии с нашей гипотезой (у Элис есть излюбленные сайты) надо преобразовать эту таблицу таким образом, чтобы каждому возможному сайту соответствовал свой отдельный признак (колонка), а его значение равнялось бы количеству посещений этого сайта в сессии. Это делается в две строчки:"
   ]
  },
  {
   "cell_type": "code",
   "execution_count": 293,
   "metadata": {},
   "outputs": [],
   "source": [
    "from scipy.sparse import csr_matrix"
   ]
  },
  {
   "cell_type": "code",
   "execution_count": 294,
   "metadata": {},
   "outputs": [],
   "source": [
    "#csr_matrix?"
   ]
  },
  {
   "cell_type": "code",
   "execution_count": 305,
   "metadata": {},
   "outputs": [
    {
     "name": "stdout",
     "output_type": "stream",
     "text": [
      "(3127280,)\n"
     ]
    },
    {
     "name": "stderr",
     "output_type": "stream",
     "text": [
      "/usr/local/lib/python3.5/dist-packages/sklearn/feature_extraction/text.py:1089: FutureWarning: Conversion of the second argument of issubdtype from `float` to `np.floating` is deprecated. In future, it will be treated as `np.float64 == np.dtype(float).type`.\n",
      "  if hasattr(X, 'dtype') and np.issubdtype(X.dtype, np.float):\n"
     ]
    },
    {
     "data": {
      "image/png": "[encoded data removed]",
      "text/plain": [
       "<matplotlib.figure.Figure at 0x7f1793b29f60>"
      ]
     },
     "metadata": {},
     "output_type": "display_data"
    },
    {
     "ename": "TypeError",
     "evalue": "hstack() got multiple values for argument 'format'",
     "output_type": "error",
     "traceback": [
      "\u001b[0;31m---------------------------------------------------------------------------\u001b[0m",
      "\u001b[0;31mTypeError\u001b[0m                                 Traceback (most recent call last)",
      "\u001b[0;32m<ipython-input-305-5feac2e19721>\u001b[0m in \u001b[0;36m<module>\u001b[0;34m()\u001b[0m\n\u001b[1;32m     37\u001b[0m \u001b[0;34m\u001b[0m\u001b[0m\n\u001b[1;32m     38\u001b[0m \u001b[0;31m#full_sites_sparse = hstack((csr_matrix(additional_df), full_sites_sparse), format='csr')\u001b[0m\u001b[0;34m\u001b[0m\u001b[0;34m\u001b[0m\u001b[0m\n\u001b[0;32m---> 39\u001b[0;31m \u001b[0mfull_sites_sparse\u001b[0m \u001b[0;34m=\u001b[0m \u001b[0mhstack\u001b[0m\u001b[0;34m(\u001b[0m\u001b[0mcsr_matrix\u001b[0m\u001b[0;34m(\u001b[0m\u001b[0madditional_df\u001b[0m\u001b[0;34m)\u001b[0m\u001b[0;34m,\u001b[0m \u001b[0mtfidf_data\u001b[0m\u001b[0;34m,\u001b[0m  \u001b[0mformat\u001b[0m\u001b[0;34m=\u001b[0m\u001b[0;34m'csr'\u001b[0m\u001b[0;34m)\u001b[0m\u001b[0;34m\u001b[0m\u001b[0m\n\u001b[0m\u001b[1;32m     40\u001b[0m \u001b[0;31m#full_sites_sparse = csr_matrix(additional_df)\u001b[0m\u001b[0;34m\u001b[0m\u001b[0;34m\u001b[0m\u001b[0m\n",
      "\u001b[0;31mTypeError\u001b[0m: hstack() got multiple values for argument 'format'"
     ]
    }
   ],
   "source": [
    "# последовательность с индексами\n",
    "sites_flatten = full_sites.values.flatten()\n",
    "\n",
    "\n",
    "\n",
    "print(sites_flatten.shape)\n",
    "\n",
    "# искомая матрица\n",
    "full_sites_sparse = csr_matrix(([1] * sites_flatten.shape[0],\n",
    "                                sites_flatten,\n",
    "                                range(0, sites_flatten.shape[0] + 10, 10)))[:, 1:]\n",
    "\n",
    "\n",
    "#-------------------------------------------------\n",
    "# from sklearn.feature_extraction.text import TfidfVectorizer\n",
    "# vectorizer = TfidfVectorizer(ngram_range=(3,8), max_features=100000, max_df=0.5)\n",
    "# vectorizer.fit(site_dict.keys())\n",
    "# full_df['text'] = full_df[sites].astype(str).apply(lambda x: ' '.join(x), axis=1)\n",
    "# #full_df['text'] = full_df['text'].apply(lambda x: x.replace('0', ''))\n",
    "# tfidf_data = vectorizer.transform(full_df['text'].values)\n",
    "\n",
    "#-------------------------------------------------\n",
    "\n",
    "additional_df = full_df[new_features]\n",
    "\n",
    "#additional_df = pd.get_dummies(full_df[new_features], columns=['duration'])\n",
    "\n",
    "\n",
    "fig, ax = plt.subplots(figsize=(20,20)) \n",
    "sns.heatmap(additional_df.corr(), ax=ax);\n",
    "plt.show()\n",
    "\n",
    "\n",
    "\n",
    "scaler = StandardScaler()\n",
    "additional_df = scaler.fit_transform(additional_df)\n",
    "\n",
    "full_sites_sparse = hstack((csr_matrix(additional_df), full_sites_sparse), format='csr')\n",
    "#full_sites_sparse = hstack(csr_matrix(additional_df), tfidf_data,  format='csr')\n",
    "#full_sites_sparse = csr_matrix(additional_df)"
   ]
  },
  {
   "cell_type": "markdown",
   "metadata": {},
   "source": [
    "Еще один плюс использования разреженных матриц в том, что для них имеются специальные реализации как матричных операций, так и алгоритмов машинного обучения, что подчас позволяет ощутимо ускорить операции за счет особенностей структуры данных. Это касается и логистической регрессии. Вот теперь у нас все готово для построения нашей первой модели.\n",
    "\n",
    "### 2. Построение первой модели\n",
    "\n",
    "Итак, у нас есть алгоритм и данные для него, построим нашу первую модель, воспользовавшись релизацией [логистической регрессии](http://scikit-learn.org/stable/modules/generated/sklearn.linear_model.LogisticRegression.html) из пакета `sklearn` с параметрами по умолчанию. Первые 90% данных будем использовать для обучения (обучающая выборка отсортирована по времени), а оставшиеся 10% для проверки качества (validation). \n",
    "\n",
    "**Напишите простую функцию, которая будет возвращать качество модели на отложенной выборке, и обучите наш первый классификатор**."
   ]
  },
  {
   "cell_type": "code",
   "execution_count": 296,
   "metadata": {},
   "outputs": [],
   "source": [
    "def get_auc_lr_valid(X, y, C=1.0, ratio = 0.7, seed=17):\n",
    "    '''\n",
    "    X, y – выборка\n",
    "    ratio – в каком отношении поделить выборку\n",
    "    C, seed – коэф-т регуляризации и random_state \n",
    "              логистической регрессии\n",
    "    '''\n",
    "    # Split the data into the training and validation sets\n",
    "    idx = int(round(X.shape[0] * ratio))\n",
    "    # Classifier training\n",
    "    lr = LogisticRegression(C=C, random_state=seed, n_jobs=-1).fit(X[:idx, :], y[:idx])\n",
    "    # Prediction for validation set\n",
    "    y_pred = lr.predict_proba(X[idx:, :])[:, 1]\n",
    "    # Calculate the quality\n",
    "    score = roc_auc_score(y[idx:], y_pred)\n",
    "    \n",
    "    return score\n",
    "\n",
    "\n",
    "def auc_sgd(X, y, a=0.0001, ratio = 0.7, seed=17):\n",
    "    # Split the data into the training and validation sets\n",
    "    idx = int(round(X.shape[0] * ratio))\n",
    "    # Classifier training\n",
    "    #sgd = XGBClassifier().fit(X[:idx, :], y[:idx])\n",
    "    sgd = SGDClassifier(loss='log', random_state=17, alpha=a).fit(X[:idx, :], y[:idx])\n",
    "    # Prediction for validation set\n",
    "    y_pred = sgd.predict_proba(X[idx:, :])[:, 1]\n",
    "    # Calculate the quality\n",
    "    score = roc_auc_score(y[idx:], y_pred)\n",
    "    \n",
    "    return score"
   ]
  },
  {
   "cell_type": "markdown",
   "metadata": {},
   "source": [
    "**Посмотрите, какой получился ROC AUC на отложенной выборке.**"
   ]
  },
  {
   "cell_type": "code",
   "execution_count": 297,
   "metadata": {},
   "outputs": [
    {
     "name": "stderr",
     "output_type": "stream",
     "text": [
      "/usr/local/lib/python3.5/dist-packages/sklearn/linear_model/logistic.py:1228: UserWarning: 'n_jobs' > 1 does not have any effect when 'solver' is set to 'liblinear'. Got 'n_jobs' = -1.\n",
      "  \" = {}.\".format(self.n_jobs))\n"
     ]
    },
    {
     "name": "stdout",
     "output_type": "stream",
     "text": [
      "0.9686476160293721\n"
     ]
    },
    {
     "name": "stderr",
     "output_type": "stream",
     "text": [
      "/usr/local/lib/python3.5/dist-packages/sklearn/linear_model/stochastic_gradient.py:84: FutureWarning: max_iter and tol parameters have been added in <class 'sklearn.linear_model.stochastic_gradient.SGDClassifier'> in 0.19. If both are left unset, they default to max_iter=5 and tol=None. If tol is not None, max_iter defaults to max_iter=1000. From 0.21, default max_iter will be 1000, and default tol will be 1e-3.\n",
      "  \"and default tol will be 1e-3.\" % type(self), FutureWarning)\n"
     ]
    },
    {
     "name": "stdout",
     "output_type": "stream",
     "text": [
      "0.9721209851871301\n",
      "CPU times: user 3.19 s, sys: 4 ms, total: 3.2 s\n",
      "Wall time: 3.19 s\n"
     ]
    }
   ],
   "source": [
    "%%time\n",
    "# Select the training set from the united dataframe (where we have the answers)\n",
    "X_train = full_sites_sparse[:idx_split, :]\n",
    "\n",
    "# Calculate metric on the validation set\n",
    "print(get_auc_lr_valid(X_train, y_train))\n",
    "print(auc_sgd(X_train, y_train))"
   ]
  },
  {
   "cell_type": "markdown",
   "metadata": {},
   "source": [
    "Будем считать эту модель нашей первой отправной точкой (baseline). Для построения модели для прогноза на тестовой выборке **необходимо обучить модель заново уже на всей обучающей выборке** (пока наша модель обучалась лишь на части данных), что повысит ее обобщающую способность:"
   ]
  },
  {
   "cell_type": "code",
   "execution_count": 298,
   "metadata": {},
   "outputs": [],
   "source": [
    "# функция для записи прогнозов в файл\n",
    "def write_to_submission_file(predicted_labels, out_file,\n",
    "                             target='target', index_label=\"session_id\"):\n",
    "    predicted_df = pd.DataFrame(predicted_labels,\n",
    "                                index = np.arange(1, predicted_labels.shape[0] + 1),\n",
    "                                columns=[target])\n",
    "    predicted_df.to_csv(out_file, index_label=index_label)"
   ]
  },
  {
   "cell_type": "markdown",
   "metadata": {},
   "source": [
    "**Обучите модель на всей выборке, сделайте прогноз для тестовой выборки и сделайте посылку в соревновании**."
   ]
  },
  {
   "cell_type": "code",
   "execution_count": 299,
   "metadata": {},
   "outputs": [],
   "source": [
    "# Ваш код здесь\n",
    "# Train the model on the whole training data set\n",
    "# Use random_state=17 for repeatability\n",
    "# Parameter C=1 by default, but here we set it explicitly\n",
    "lr = LogisticRegression(C=1.0, random_state=17).fit(X_train, y_train)\n",
    "\n",
    "# Make a prediction for test data set\n",
    "X_test = full_sites_sparse[idx_split:,:]\n",
    "y_test = lr.predict_proba(X_test)[:, 1]\n",
    "\n",
    "# Write it to the file which could be submitted\n",
    "write_to_submission_file(y_test, 'baseline_new.csv')"
   ]
  },
  {
   "cell_type": "markdown",
   "metadata": {},
   "source": [
    "Если вы выполните эти действия и загрузите ответ на [странице](https://inclass.kaggle.com/c/catch-me-if-you-can-intruder-detection-through-webpage-session-tracking2) соревнования, то воспроизведете первый бенчмарк \"Logit\".\n",
    "\n",
    "### 3. Улучшение модели, построение новых признаков"
   ]
  },
  {
   "cell_type": "markdown",
   "metadata": {},
   "source": [
    "Создайте такой признак, который будет представлять собой число вида ГГГГММ от той даты, когда проходила сессия, например 201407 -- 2014 год и 7 месяц. Таким образом, мы будем учитывать помесячный [линейный тренд](http://people.duke.edu/~rnau/411trend.htm) за весь период предоставленных данных."
   ]
  },
  {
   "cell_type": "code",
   "execution_count": 300,
   "metadata": {
    "scrolled": false
   },
   "outputs": [
    {
     "name": "stdout",
     "output_type": "stream",
     "text": [
      "C= 1e-05\n"
     ]
    },
    {
     "name": "stderr",
     "output_type": "stream",
     "text": [
      "/usr/local/lib/python3.5/dist-packages/sklearn/linear_model/logistic.py:1228: UserWarning: 'n_jobs' > 1 does not have any effect when 'solver' is set to 'liblinear'. Got 'n_jobs' = -1.\n",
      "  \" = {}.\".format(self.n_jobs))\n"
     ]
    },
    {
     "name": "stdout",
     "output_type": "stream",
     "text": [
      "auc 0.5966479818312768\n",
      "C= 9e-05\n",
      "auc 0.6445601927455751\n",
      "C= 0.00012\n",
      "auc 0.6595708191223367\n",
      "C= 0.001\n",
      "auc 0.8616082893745924\n",
      "C= 0.011\n",
      "auc 0.9610405589183388\n",
      "C= 0.11\n",
      "auc 0.970265509811119\n",
      "C= 0.12\n",
      "auc 0.9702556694027356\n",
      "C= 0.13\n",
      "auc 0.9702416779013086\n",
      "C= 0.14\n",
      "auc 0.9702111452423207\n",
      "C= 0.15\n",
      "auc 0.9701862808271337\n",
      "C= 0.1668100537200059\n",
      "auc 0.9701444116805437\n",
      "C= 1\n",
      "auc 0.9686476160293721\n",
      "C= 10\n",
      "auc 0.9670254657968897\n",
      "--------------------------------------------------------------------------------\n",
      "BETTER_C= 0.11\n",
      "BETTER_AUC= 0.970265509811119\n",
      "Max auc_roc: 0.9816584772612003\n",
      "CPU times: user 1min 37s, sys: 35.6 s, total: 2min 12s\n",
      "Wall time: 1min 28s\n"
     ]
    }
   ],
   "source": [
    "%%time\n",
    "from sklearn.linear_model import LogisticRegression, LogisticRegressionCV\n",
    "\n",
    "from sklearn.model_selection import TimeSeriesSplit\n",
    "from sklearn.model_selection import GridSearchCV, StratifiedKFold\n",
    "\n",
    "max_c = -1\n",
    "max_auc = 0\n",
    "c_list = [0.1668100537200059]\n",
    "c_list = [0.00001, 0.00009, 0.00012, 0.001, 0.011,0.11,0.12,0.13,0.14,0.15,0.1668100537200059, 1,10]\n",
    "#c_list = [200,500,1000\n",
    "tscv = TimeSeriesSplit(n_splits=5)\n",
    "\n",
    "#c_list = np.logspace(-3, 1, 10)\n",
    "#np.logspace(-3, 1, 10)\n",
    "for c in c_list:\n",
    "    print(\"C=\",c)\n",
    "    auc = get_auc_lr_valid(X_train, y_train, C=c)\n",
    "    #auc = auc_sgd(X_train, y_train, a=c)\n",
    "    print(\"auc\",auc)\n",
    "    if auc > max_auc:\n",
    "        max_auc = auc\n",
    "        max_c = c\n",
    "        \n",
    "print('----'*20)\n",
    "print(\"BETTER_C=\",max_c)\n",
    "print(\"BETTER_AUC=\",max_auc)\n",
    "\n",
    "\n",
    "searchCV = LogisticRegressionCV(\n",
    "                Cs=c_list\n",
    "                ,scoring='roc_auc'\n",
    "                ,cv=tscv\n",
    "                ,random_state=17)\n",
    "searchCV.fit(X_train, y_train)\n",
    "max_auc = searchCV.scores_[1].max()\n",
    "print ('Max auc_roc:', max_auc)\n",
    "            \n"
   ]
  },
  {
   "cell_type": "markdown",
   "metadata": {},
   "source": [
    "Добавьте новый признак, предварительно отмасштабировав его с помощью `StandardScaler`, и снова посчитайте ROC AUC на отложенной выборке."
   ]
  },
  {
   "cell_type": "code",
   "execution_count": null,
   "metadata": {},
   "outputs": [],
   "source": []
  },
  {
   "cell_type": "code",
   "execution_count": null,
   "metadata": {},
   "outputs": [],
   "source": []
  },
  {
   "cell_type": "code",
   "execution_count": 302,
   "metadata": {},
   "outputs": [
    {
     "name": "stderr",
     "output_type": "stream",
     "text": [
      "/usr/local/lib/python3.5/dist-packages/sklearn/linear_model/stochastic_gradient.py:84: FutureWarning: max_iter and tol parameters have been added in <class 'sklearn.linear_model.stochastic_gradient.SGDClassifier'> in 0.19. If both are left unset, they default to max_iter=5 and tol=None. If tol is not None, max_iter defaults to max_iter=1000. From 0.21, default max_iter will be 1000, and default tol will be 1e-3.\n",
      "  \"and default tol will be 1e-3.\" % type(self), FutureWarning)\n"
     ]
    }
   ],
   "source": [
    "# Ваш код здесь\n",
    "lr = LogisticRegression(C=0.11, random_state=17).fit(X_train, y_train)\n",
    "#sgd = XGBClassifier(0.00012).fit(X_train, y_train)\n",
    "sgd = SGDClassifier(loss='log', random_state=17, alpha=0.00012).fit(X_train, y_train)\n",
    "\n",
    "# Make a prediction for test data set\n",
    "X_test = full_sites_sparse[idx_split:,:]\n",
    "#y_test = lr.predict_proba(X_test)[:, 1]\n",
    "#y_test = sgd.predict_proba(X_test)[:, 1]\n",
    "y_test = searchCV.predict_proba(X_test)[:, 1]\n",
    "\n",
    "# Write it to the file which could be submitted\n",
    "write_to_submission_file(y_test, 'baseline_best_scv.csv')"
   ]
  },
  {
   "cell_type": "markdown",
   "metadata": {},
   "source": [
    "**Добавьте два новых признака: start_hour и morning.**\n",
    "\n",
    "Признак `start_hour` – это час в который началась сессия (от 0 до 23), а бинарный признак `morning` равен 1, если сессия началась утром и 0, если сессия началась позже (будем считать, что утро это если `start_hour равен` 11 или меньше).\n",
    "\n",
    "**Посчитйте ROC AUC на отложенной выборке для выборки с:**\n",
    "- сайтами, `start_month` и `start_hour`\n",
    "- сайтами, `start_month` и `morning`\n",
    "- сайтами, `start_month`, `start_hour` и `morning`"
   ]
  },
  {
   "cell_type": "code",
   "execution_count": 222,
   "metadata": {},
   "outputs": [],
   "source": [
    "# Ваш код здесь\n",
    "\n",
    "\n",
    "PATH_TO_DATA = ('')\n",
    "stack1 = pd.read_csv(os.path.join(PATH_TO_DATA, 'baseline_best.csv'), index_col='session_id')\n",
    "stack2 = pd.read_csv(os.path.join(PATH_TO_DATA, 'baseline_best2.csv'), index_col='session_id')\n",
    "stack3 = pd.read_csv(os.path.join(PATH_TO_DATA, 'baseline_best3.csv'), index_col='session_id')\n",
    "stack4 = pd.read_csv(os.path.join(PATH_TO_DATA, 'baseline_best4.csv'), index_col='session_id')\n",
    "stack5 = pd.read_csv(os.path.join(PATH_TO_DATA, 'baseline_best5.csv'), index_col='session_id')\n",
    "stack6 = pd.read_csv(os.path.join(PATH_TO_DATA, 'baseline_best6.csv'), index_col='session_id')\n",
    "\n",
    "\n",
    "\n",
    "stacked = pd.concat([stack1, stack2, stack3, stack4, stack5, stack6],axis=1)\n",
    "result = stacked.mean(axis=1)\n",
    "\n",
    "write_to_submission_file(result.values, 'baseline_stack.csv')"
   ]
  },
  {
   "cell_type": "markdown",
   "metadata": {},
   "source": [
    "### 4. Подбор коэффицициента регуляризации\n",
    "\n",
    "Итак, мы ввели признаки, которые улучшают качество нашей модели по сравнению с первым бейслайном. Можем ли мы добиться большего значения метрики? После того, как мы сформировали обучающую и тестовую выборки, почти всегда имеет смысл подобрать оптимальные гиперпараметры -- характеристики модели, которые не изменяются во время обучения. Например, на 3 неделе вы проходили решающие деревья, глубина дерева это гиперпараметр, а признак, по которому происходит ветвление и его значение -- нет. В используемой нами логистической регрессии веса каждого признака изменяются и во время обучения находится их оптимальные значения, а коэффициент регуляризации остается постоянным. Это тот гиперпараметр, который мы сейчас будем оптимизировать.\n",
    "\n",
    "Посчитайте качество на отложенной выборке с коэффициентом регуляризации, который по умолчанию `C=1`:"
   ]
  },
  {
   "cell_type": "code",
   "execution_count": 140,
   "metadata": {},
   "outputs": [],
   "source": [
    "# Ваш код здесь"
   ]
  },
  {
   "cell_type": "markdown",
   "metadata": {},
   "source": [
    "Постараемся побить этот результат за счет оптимизации коэффициента регуляризации. Возьмем набор возможных значений C и для каждого из них посчитаем значение метрики на отложенной выборке.\n",
    "\n",
    "Найдите `C` из `np.logspace(-3, 1, 10)`, при котором ROC AUC на отложенной выборке максимален. "
   ]
  },
  {
   "cell_type": "code",
   "execution_count": null,
   "metadata": {
    "collapsed": true
   },
   "outputs": [],
   "source": [
    "# Ваш код здесь"
   ]
  },
  {
   "cell_type": "markdown",
   "metadata": {},
   "source": [
    "Наконец, обучите модель с найденным оптимальным значением коэффициента регуляризации и с построенными признаками `start_hour`, `start_month` и `morning`. Если вы все сделали правильно и загрузите это решение, то повторите второй бенчмарк соревнования."
   ]
  },
  {
   "cell_type": "code",
   "execution_count": null,
   "metadata": {
    "collapsed": true
   },
   "outputs": [],
   "source": [
    "# Ваш код здесь"
   ]
  }
 ],
 "metadata": {
  "kernelspec": {
   "display_name": "Python 3",
   "language": "python",
   "name": "python3"
  },
  "language_info": {
   "codemirror_mode": {
    "name": "ipython",
    "version": 3
   },
   "file_extension": ".py",
   "mimetype": "text/x-python",
   "name": "python",
   "nbconvert_exporter": "python",
   "pygments_lexer": "ipython3",
   "version": "3.5.2"
  }
 },
 "nbformat": 4,
 "nbformat_minor": 2
}
